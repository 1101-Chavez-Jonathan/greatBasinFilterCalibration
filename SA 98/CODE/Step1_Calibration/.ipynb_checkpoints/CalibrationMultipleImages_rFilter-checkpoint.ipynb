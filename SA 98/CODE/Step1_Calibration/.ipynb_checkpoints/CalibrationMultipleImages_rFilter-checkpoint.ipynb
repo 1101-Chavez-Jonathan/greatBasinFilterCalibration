{
 "cells": [
  {
   "cell_type": "code",
   "execution_count": null,
   "id": "b94c23eb",
   "metadata": {},
   "outputs": [],
   "source": [
    "from astropy.io import fits\n",
    "import numpy as np\n",
    "import matplotlib.pyplot as plt\n",
    "from matplotlib.colors import LogNorm\n",
    "import glob\n",
    "import os\n",
    "\n",
    "# Directory Paths\n",
    "rawScienceDir = \"/Users/jonathan.a.chavez9/Desktop/greatBasinFilterCalibration/SA 98/vFilter\"\n",
    "flatFieldDir = \"/Users/jonathan.a.chavez9/Desktop/greatBasinFilterCalibration/March19BVRICalibs\"\n",
    "darkFrameDir = \"/Users/jonathan.a.chavez9/Desktop/greatBasinFilterCalibration/March19BVRICalibs\"\n",
    "calibratedImageDir = \"/Users/jonathan.a.chavez9/Desktop/greatBasinFilterCalibration/SA 98/calibrated_v\"\n",
    "\n",
    "# Specify the FITS filenames\n",
    "flatFieldFile = \"Flat-20240320at013407_PA000-V-3.fts\"  # Update this to your flat field FITS file name\n",
    "darkFrameFile = \"Dark-20240320at021030_-25-3X3-300.fts\"  # Update this to your dark frame FITS file name\n",
    "\n",
    "# Loading the Flat Field Image\n",
    "flatFieldPath = os.path.join(flatFieldDir, flatFieldFile)\n",
    "flatData = fits.getdata(flatFieldPath)\n",
    "\n",
    "# Loading the Dark Frame Image\n",
    "darkFramePath = os.path.join(darkFrameDir, darkFrameFile)\n",
    "darkData = fits.getdata(darkFramePath)\n",
    "\n",
    "# Normalizing the Flat Field\n",
    "normalizedFlat = flatData / np.median(flatData)\n",
    "\n",
    "# Looping Through all Science Images\n",
    "for scienceFile in glob.glob(os.path.join(rawScienceDir, \"*.fts\")):\n",
    "    HDU = fits.open(scienceFile)\n",
    "    rawData = HDU[0].data\n",
    "    \n",
    "    # Calibrating the Science Image\n",
    "    calibratedData = (rawData - darkData) / normalizedFlat\n",
    "    HDU[0].data = calibratedData\n",
    "    \n",
    "    # Constructing the Calibrated File Path\n",
    "    original_filename = os.path.basename(scienceFile)\n",
    "    new_filename = \"calibrated_\" + original_filename\n",
    "    calibratedFile = os.path.join(calibratedImageDir, new_filename)\n",
    "    \n",
    "    # Saving to a New FITS file\n",
    "    HDU.writeto(calibratedFile, overwrite=True)\n",
    "    print(f\"Calibrated Image Saved to: {calibratedFile}\")\n",
    "    HDU.close()"
   ]
  },
  {
   "cell_type": "code",
   "execution_count": null,
   "id": "33ed6a1f",
   "metadata": {},
   "outputs": [],
   "source": []
  }
 ],
 "metadata": {
  "kernelspec": {
   "display_name": "Python 3 (ipykernel)",
   "language": "python",
   "name": "python3"
  },
  "language_info": {
   "codemirror_mode": {
    "name": "ipython",
    "version": 3
   },
   "file_extension": ".py",
   "mimetype": "text/x-python",
   "name": "python",
   "nbconvert_exporter": "python",
   "pygments_lexer": "ipython3",
   "version": "3.11.4"
  }
 },
 "nbformat": 4,
 "nbformat_minor": 5
}
