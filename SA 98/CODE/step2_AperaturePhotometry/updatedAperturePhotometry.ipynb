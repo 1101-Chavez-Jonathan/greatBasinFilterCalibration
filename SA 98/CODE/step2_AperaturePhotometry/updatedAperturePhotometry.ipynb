{
 "cells": [
  {
   "cell_type": "markdown",
   "id": "15a3db31",
   "metadata": {},
   "source": [
    "## I Filter"
   ]
  },
  {
   "cell_type": "code",
   "execution_count": 36,
   "id": "f6fcfa4d",
   "metadata": {
    "scrolled": true
   },
   "outputs": [
    {
     "name": "stderr",
     "output_type": "stream",
     "text": [
      "WARNING: FITSFixedWarning: RADECSYS= 'FK5 ' / Equatorial coordinate system \n",
      "the RADECSYS keyword is deprecated, use RADESYSa. [astropy.wcs.wcs]\n",
      "WARNING: FITSFixedWarning: 'datfix' made the change 'Set MJD-OBS to 60388.131993 from DATE-OBS'. [astropy.wcs.wcs]\n",
      "/var/folders/xh/69tqn8vn1vd5sw0_tn9ksy5w0000gn/T/ipykernel_30578/2503332311.py:66: RuntimeWarning: invalid value encountered in log10\n",
      "  'Instrumental_I': -2.5 * np.log10(row['aperture_sum_bkg_sub']),\n"
     ]
    },
    {
     "name": "stdout",
     "output_type": "stream",
     "text": [
      "Results saved to /Users/jonathan.a.chavez9/Desktop/greatBasinFilterCalibration/SA 98/calibrated_i/IResult_1.30662842941.csv\n"
     ]
    },
    {
     "name": "stderr",
     "output_type": "stream",
     "text": [
      "WARNING: FITSFixedWarning: RADECSYS= 'FK5 ' / Equatorial coordinate system \n",
      "the RADECSYS keyword is deprecated, use RADESYSa. [astropy.wcs.wcs]\n",
      "WARNING: FITSFixedWarning: 'datfix' made the change 'Set MJD-OBS to 60387.200034 from DATE-OBS'. [astropy.wcs.wcs]\n",
      "/var/folders/xh/69tqn8vn1vd5sw0_tn9ksy5w0000gn/T/ipykernel_30578/2503332311.py:66: RuntimeWarning: invalid value encountered in log10\n",
      "  'Instrumental_I': -2.5 * np.log10(row['aperture_sum_bkg_sub']),\n"
     ]
    },
    {
     "name": "stdout",
     "output_type": "stream",
     "text": [
      "Results saved to /Users/jonathan.a.chavez9/Desktop/greatBasinFilterCalibration/SA 98/calibrated_i/IResult_1.52456664101.csv\n"
     ]
    },
    {
     "name": "stderr",
     "output_type": "stream",
     "text": [
      "WARNING: FITSFixedWarning: RADECSYS= 'FK5 ' / Equatorial coordinate system \n",
      "the RADECSYS keyword is deprecated, use RADESYSa. [astropy.wcs.wcs]\n",
      "WARNING: FITSFixedWarning: 'datfix' made the change 'Set MJD-OBS to 60388.201272 from DATE-OBS'. [astropy.wcs.wcs]\n",
      "/var/folders/xh/69tqn8vn1vd5sw0_tn9ksy5w0000gn/T/ipykernel_30578/2503332311.py:66: RuntimeWarning: invalid value encountered in log10\n",
      "  'Instrumental_I': -2.5 * np.log10(row['aperture_sum_bkg_sub']),\n",
      "WARNING: FITSFixedWarning: RADECSYS= 'FK5 ' / Equatorial coordinate system \n",
      "the RADECSYS keyword is deprecated, use RADESYSa. [astropy.wcs.wcs]\n",
      "WARNING: FITSFixedWarning: 'datfix' made the change 'Set MJD-OBS to 60387.163815 from DATE-OBS'. [astropy.wcs.wcs]\n"
     ]
    },
    {
     "name": "stdout",
     "output_type": "stream",
     "text": [
      "Results saved to /Users/jonathan.a.chavez9/Desktop/greatBasinFilterCalibration/SA 98/calibrated_i/IResult_1.54918103305.csv\n"
     ]
    },
    {
     "name": "stderr",
     "output_type": "stream",
     "text": [
      "/var/folders/xh/69tqn8vn1vd5sw0_tn9ksy5w0000gn/T/ipykernel_30578/2503332311.py:66: RuntimeWarning: invalid value encountered in log10\n",
      "  'Instrumental_I': -2.5 * np.log10(row['aperture_sum_bkg_sub']),\n",
      "WARNING: FITSFixedWarning: RADECSYS= 'FK5 ' / Equatorial coordinate system \n",
      "the RADECSYS keyword is deprecated, use RADESYSa. [astropy.wcs.wcs]\n",
      "WARNING: FITSFixedWarning: 'datfix' made the change 'Set MJD-OBS to 60388.235704 from DATE-OBS'. [astropy.wcs.wcs]\n",
      "/var/folders/xh/69tqn8vn1vd5sw0_tn9ksy5w0000gn/T/ipykernel_30578/2503332311.py:66: RuntimeWarning: invalid value encountered in log10\n",
      "  'Instrumental_I': -2.5 * np.log10(row['aperture_sum_bkg_sub']),\n",
      "WARNING: FITSFixedWarning: RADECSYS= 'FK5 ' / Equatorial coordinate system \n",
      "the RADECSYS keyword is deprecated, use RADESYSa. [astropy.wcs.wcs]\n",
      "WARNING: FITSFixedWarning: 'datfix' made the change 'Set MJD-OBS to 60388.166661 from DATE-OBS'. [astropy.wcs.wcs]\n"
     ]
    },
    {
     "name": "stdout",
     "output_type": "stream",
     "text": [
      "Results saved to /Users/jonathan.a.chavez9/Desktop/greatBasinFilterCalibration/SA 98/calibrated_i/IResult_1.36646202666.csv\n",
      "Results saved to /Users/jonathan.a.chavez9/Desktop/greatBasinFilterCalibration/SA 98/calibrated_i/IResult_1.85706167933.csv\n",
      "Results saved to /Users/jonathan.a.chavez9/Desktop/greatBasinFilterCalibration/SA 98/calibrated_i/IResult_1.38404453414.csv\n"
     ]
    },
    {
     "name": "stderr",
     "output_type": "stream",
     "text": [
      "/var/folders/xh/69tqn8vn1vd5sw0_tn9ksy5w0000gn/T/ipykernel_30578/2503332311.py:66: RuntimeWarning: invalid value encountered in log10\n",
      "  'Instrumental_I': -2.5 * np.log10(row['aperture_sum_bkg_sub']),\n"
     ]
    }
   ],
   "source": [
    "import os\n",
    "import numpy as np\n",
    "import pandas as pd\n",
    "from astropy.io import fits\n",
    "from astropy.wcs import WCS\n",
    "from astropy.coordinates import SkyCoord\n",
    "import astropy.units as u\n",
    "from photutils.aperture import SkyCircularAperture, CircularAperture, SkyCircularAnnulus, aperture_photometry\n",
    "from astropy.stats import sigma_clipped_stats\n",
    "\n",
    "# Load APASS catalog CSV file\n",
    "apass_data = pd.read_csv(\"/Users/jonathan.a.chavez9/Desktop/greatBasinFilterCalibration/SA 98/apassSA98.csv\")\n",
    "\n",
    "# Define your base path for FITS files\n",
    "base_path = \"/Users/jonathan.a.chavez9/Desktop/greatBasinFilterCalibration/SA 98/calibrated_i\"\n",
    "\n",
    "# Iterate over each file in the directory\n",
    "for filename in os.listdir(base_path):\n",
    "    if filename.endswith('.fts'):\n",
    "        file_path = os.path.join(base_path, filename)\n",
    "        results = []  # Initialize the results list inside the loop for separate CSV for each file\n",
    "        try:\n",
    "            hdulist = fits.open(file_path)\n",
    "            data = hdulist[0].data\n",
    "            wcs = WCS(hdulist[0].header)\n",
    "            star_positions = SkyCoord(ra=apass_data['RA_degrees']*u.deg, dec=apass_data['Dec_degrees']*u.deg)\n",
    "\n",
    "            # Retrieve airmass from the FITS header\n",
    "            airmass = hdulist[0].header.get('AIRMASS', 'unknown')\n",
    "\n",
    "            # Define apertures and convert to pixel coordinates\n",
    "            apertures = SkyCircularAperture(star_positions, r=0.004 * u.deg)\n",
    "            pixel_apertures = apertures.to_pixel(wcs)\n",
    "\n",
    "            # Define annuli and convert to pixel coordinates for background estimation\n",
    "            annuli = SkyCircularAnnulus(star_positions, r_in=0.005 * u.deg, r_out=0.006 * u.deg)\n",
    "            pixel_annuli = annuli.to_pixel(wcs)\n",
    "\n",
    "            # Perform background subtraction using sigma clipping\n",
    "            bkg_median = []\n",
    "            for annulus in pixel_annuli:\n",
    "                mask = annulus.to_mask(method='center')\n",
    "                annulus_data = mask.multiply(data)\n",
    "                if np.any(mask.data > 0):  # Ensure data within mask\n",
    "                    annulus_data_1d = annulus_data[mask.data > 0]\n",
    "                    _, median_sigclip, _ = sigma_clipped_stats(annulus_data_1d)\n",
    "                    bkg_median.append(median_sigclip)\n",
    "                else:\n",
    "                    bkg_median.append(0)  # No data to process\n",
    "\n",
    "            bkg_median = np.array(bkg_median)\n",
    "            phot_table = aperture_photometry(data, pixel_apertures, error=np.sqrt(data), wcs=wcs)\n",
    "            phot_table['bkg_median'] = bkg_median\n",
    "            phot_table['aperture_sum_bkg_sub'] = phot_table['aperture_sum'] - bkg_median * np.array([ap.area for ap in pixel_apertures])\n",
    "\n",
    "            # Adding celestial coordinates\n",
    "            phot_table['ra_icrs'] = star_positions.ra.degree\n",
    "            phot_table['dec_icrs'] = star_positions.dec.degree\n",
    "\n",
    "            # Match photometry results with catalog data\n",
    "            for i, row in enumerate(phot_table):\n",
    "                catalog_match = apass_data.iloc[np.argmin(star_positions.separation(star_positions[i]).degree)]\n",
    "                results.append({\n",
    "                    'RA': row['ra_icrs'],\n",
    "                    'DEC': row['dec_icrs'],\n",
    "                    'Instrumental_I': -2.5 * np.log10(row['aperture_sum_bkg_sub']),\n",
    "                    'InstrumentalI_err': 1.0857 * row['aperture_sum_err'] / row['aperture_sum'],\n",
    "                    'Known_I': catalog_match['Ic'],\n",
    "                    'KnownI_err': catalog_match['Ic_err']\n",
    "                })\n",
    "\n",
    "            results_df = pd.DataFrame(results)\n",
    "            csv_filename = f\"IResult_{airmass}.csv\"\n",
    "            csv_file_path = os.path.join(base_path, csv_filename)\n",
    "            results_df.to_csv(csv_file_path, index=False)\n",
    "            print(f\"Results saved to {csv_file_path}\")\n",
    "\n",
    "        except Exception as e:\n",
    "            print(f\"Failed to process {filename}: {e}\")\n",
    "\n",
    "\n",
    "\n"
   ]
  },
  {
   "cell_type": "markdown",
   "id": "eba14d17",
   "metadata": {},
   "source": [
    "## R Filter"
   ]
  },
  {
   "cell_type": "code",
   "execution_count": 1,
   "id": "96beea79",
   "metadata": {},
   "outputs": [
    {
     "name": "stderr",
     "output_type": "stream",
     "text": [
      "WARNING: FITSFixedWarning: RADECSYS= 'FK5 ' / Equatorial coordinate system \n",
      "the RADECSYS keyword is deprecated, use RADESYSa. [astropy.wcs.wcs]\n",
      "WARNING: FITSFixedWarning: 'datfix' made the change 'Set MJD-OBS to 60388.197626 from DATE-OBS'. [astropy.wcs.wcs]\n"
     ]
    },
    {
     "name": "stdout",
     "output_type": "stream",
     "text": [
      "Results saved to /Users/jonathan.a.chavez9/Desktop/greatBasinFilterCalibration/SA 98/calibrated_r/RResult_1.52639624326.csv\n",
      "Results saved to /Users/jonathan.a.chavez9/Desktop/greatBasinFilterCalibration/SA 98/calibrated_r/RResult_1.30251975605.csv\n"
     ]
    },
    {
     "name": "stderr",
     "output_type": "stream",
     "text": [
      "WARNING: FITSFixedWarning: RADECSYS= 'FK5 ' / Equatorial coordinate system \n",
      "the RADECSYS keyword is deprecated, use RADESYSa. [astropy.wcs.wcs]\n",
      "WARNING: FITSFixedWarning: 'datfix' made the change 'Set MJD-OBS to 60388.128324 from DATE-OBS'. [astropy.wcs.wcs]\n",
      "/var/folders/xh/69tqn8vn1vd5sw0_tn9ksy5w0000gn/T/ipykernel_46446/458396092.py:66: RuntimeWarning: invalid value encountered in log10\n",
      "  'Instrumental_R': -2.5 * np.log10(row['aperture_sum_bkg_sub']),\n",
      "WARNING: FITSFixedWarning: RADECSYS= 'FK5 ' / Equatorial coordinate system \n",
      "the RADECSYS keyword is deprecated, use RADESYSa. [astropy.wcs.wcs]\n",
      "WARNING: FITSFixedWarning: 'datfix' made the change 'Set MJD-OBS to 60387.160094 from DATE-OBS'. [astropy.wcs.wcs]\n",
      "/var/folders/xh/69tqn8vn1vd5sw0_tn9ksy5w0000gn/T/ipykernel_46446/458396092.py:66: RuntimeWarning: invalid value encountered in log10\n",
      "  'Instrumental_R': -2.5 * np.log10(row['aperture_sum_bkg_sub']),\n",
      "WARNING: FITSFixedWarning: RADECSYS= 'FK5 ' / Equatorial coordinate system \n",
      "the RADECSYS keyword is deprecated, use RADESYSa. [astropy.wcs.wcs]\n",
      "WARNING: FITSFixedWarning: 'datfix' made the change 'Set MJD-OBS to 60388.232042 from DATE-OBS'. [astropy.wcs.wcs]\n"
     ]
    },
    {
     "name": "stdout",
     "output_type": "stream",
     "text": [
      "Results saved to /Users/jonathan.a.chavez9/Desktop/greatBasinFilterCalibration/SA 98/calibrated_r/RResult_1.35593709572.csv\n",
      "Results saved to /Users/jonathan.a.chavez9/Desktop/greatBasinFilterCalibration/SA 98/calibrated_r/RResult_1.81436066349.csv\n"
     ]
    },
    {
     "name": "stderr",
     "output_type": "stream",
     "text": [
      "WARNING: FITSFixedWarning: RADECSYS= 'FK5 ' / Equatorial coordinate system \n",
      "the RADECSYS keyword is deprecated, use RADESYSa. [astropy.wcs.wcs]\n",
      "WARNING: FITSFixedWarning: 'datfix' made the change 'Set MJD-OBS to 60387.196325 from DATE-OBS'. [astropy.wcs.wcs]\n",
      "/var/folders/xh/69tqn8vn1vd5sw0_tn9ksy5w0000gn/T/ipykernel_46446/458396092.py:66: RuntimeWarning: invalid value encountered in log10\n",
      "  'Instrumental_R': -2.5 * np.log10(row['aperture_sum_bkg_sub']),\n",
      "WARNING: FITSFixedWarning: RADECSYS= 'FK5 ' / Equatorial coordinate system \n",
      "the RADECSYS keyword is deprecated, use RADESYSa. [astropy.wcs.wcs]\n",
      "WARNING: FITSFixedWarning: 'datfix' made the change 'Set MJD-OBS to 60388.163001 from DATE-OBS'. [astropy.wcs.wcs]\n"
     ]
    },
    {
     "name": "stdout",
     "output_type": "stream",
     "text": [
      "Results saved to /Users/jonathan.a.chavez9/Desktop/greatBasinFilterCalibration/SA 98/calibrated_r/RResult_1.50286457265.csv\n",
      "Results saved to /Users/jonathan.a.chavez9/Desktop/greatBasinFilterCalibration/SA 98/calibrated_r/RResult_1.37231024482.csv\n"
     ]
    },
    {
     "name": "stderr",
     "output_type": "stream",
     "text": [
      "/var/folders/xh/69tqn8vn1vd5sw0_tn9ksy5w0000gn/T/ipykernel_46446/458396092.py:66: RuntimeWarning: invalid value encountered in log10\n",
      "  'Instrumental_R': -2.5 * np.log10(row['aperture_sum_bkg_sub']),\n"
     ]
    }
   ],
   "source": [
    "import os\n",
    "import numpy as np\n",
    "import pandas as pd\n",
    "from astropy.io import fits\n",
    "from astropy.wcs import WCS\n",
    "from astropy.coordinates import SkyCoord\n",
    "import astropy.units as u\n",
    "from photutils.aperture import SkyCircularAperture, CircularAperture, SkyCircularAnnulus, aperture_photometry\n",
    "from astropy.stats import sigma_clipped_stats\n",
    "\n",
    "# Load APASS catalog CSV file\n",
    "apass_data = pd.read_csv(\"/Users/jonathan.a.chavez9/Desktop/greatBasinFilterCalibration/SA 98/apassSA98.csv\")\n",
    "\n",
    "# Define your base path for FITS files\n",
    "base_path = \"/Users/jonathan.a.chavez9/Desktop/greatBasinFilterCalibration/SA 98/calibrated_r\"\n",
    "\n",
    "# Iterate over each file in the directory\n",
    "for filename in os.listdir(base_path):\n",
    "    if filename.endswith('.fts'):\n",
    "        file_path = os.path.join(base_path, filename)\n",
    "        results = []  # Initialize the results list inside the loop for separate CSV for each file\n",
    "        try:\n",
    "            hdulist = fits.open(file_path)\n",
    "            data = hdulist[0].data\n",
    "            wcs = WCS(hdulist[0].header)\n",
    "            star_positions = SkyCoord(ra=apass_data['RA_degrees']*u.deg, dec=apass_data['Dec_degrees']*u.deg)\n",
    "\n",
    "            # Retrieve airmass from the FITS header\n",
    "            airmass = hdulist[0].header.get('AIRMASS', 'unknown')\n",
    "\n",
    "            # Define apertures and convert to pixel coordinates\n",
    "            apertures = SkyCircularAperture(star_positions, r=0.004 * u.deg)\n",
    "            pixel_apertures = apertures.to_pixel(wcs)\n",
    "\n",
    "            # Define annuli and convert to pixel coordinates for background estimation\n",
    "            annuli = SkyCircularAnnulus(star_positions, r_in=0.005 * u.deg, r_out=0.006 * u.deg)\n",
    "            pixel_annuli = annuli.to_pixel(wcs)\n",
    "\n",
    "            # Perform background subtraction using sigma clipping\n",
    "            bkg_median = []\n",
    "            for annulus in pixel_annuli:\n",
    "                mask = annulus.to_mask(method='center')\n",
    "                annulus_data = mask.multiply(data)\n",
    "                if np.any(mask.data > 0):  # Ensure data within mask\n",
    "                    annulus_data_1d = annulus_data[mask.data > 0]\n",
    "                    _, median_sigclip, _ = sigma_clipped_stats(annulus_data_1d)\n",
    "                    bkg_median.append(median_sigclip)\n",
    "                else:\n",
    "                    bkg_median.append(0)  # No data to process\n",
    "\n",
    "            bkg_median = np.array(bkg_median)\n",
    "            phot_table = aperture_photometry(data, pixel_apertures, error=np.sqrt(data), wcs=wcs)\n",
    "            phot_table['bkg_median'] = bkg_median\n",
    "            phot_table['aperture_sum_bkg_sub'] = phot_table['aperture_sum'] - bkg_median * np.array([ap.area for ap in pixel_apertures])\n",
    "\n",
    "            # Adding celestial coordinates\n",
    "            phot_table['ra_icrs'] = star_positions.ra.degree\n",
    "            phot_table['dec_icrs'] = star_positions.dec.degree\n",
    "\n",
    "            # Match photometry results with catalog data\n",
    "            for i, row in enumerate(phot_table):\n",
    "                catalog_match = apass_data.iloc[np.argmin(star_positions.separation(star_positions[i]).degree)]\n",
    "                results.append({\n",
    "                    'RA': row['ra_icrs'],\n",
    "                    'DEC': row['dec_icrs'],\n",
    "                    'Instrumental_R': -2.5 * np.log10(row['aperture_sum_bkg_sub']),\n",
    "                    'InstrumentalR_err': 1.0857 * row['aperture_sum_err'] / row['aperture_sum'],\n",
    "                    'Known_R': catalog_match['Rc'],\n",
    "                    'KnownR_err': catalog_match['Rc_err']\n",
    "                })\n",
    "\n",
    "            results_df = pd.DataFrame(results)\n",
    "            csv_filename = f\"RResult_{airmass}.csv\"\n",
    "            csv_file_path = os.path.join(base_path, csv_filename)\n",
    "            results_df.to_csv(csv_file_path, index=False)\n",
    "            print(f\"Results saved to {csv_file_path}\")\n",
    "\n",
    "        except Exception as e:\n",
    "            print(f\"Failed to process {filename}: {e}\")\n"
   ]
  },
  {
   "cell_type": "markdown",
   "id": "96222e19",
   "metadata": {},
   "source": [
    "## B Filter"
   ]
  },
  {
   "cell_type": "code",
   "execution_count": 2,
   "id": "a6930f0e",
   "metadata": {},
   "outputs": [
    {
     "name": "stderr",
     "output_type": "stream",
     "text": [
      "WARNING: FITSFixedWarning: RADECSYS= 'FK5 ' / Equatorial coordinate system \n",
      "the RADECSYS keyword is deprecated, use RADESYSa. [astropy.wcs.wcs]\n",
      "WARNING: FITSFixedWarning: 'datfix' made the change 'Set MJD-OBS to 60388.193954 from DATE-OBS'. [astropy.wcs.wcs]\n",
      "/var/folders/xh/69tqn8vn1vd5sw0_tn9ksy5w0000gn/T/ipykernel_43427/3994092875.py:66: RuntimeWarning: invalid value encountered in log10\n",
      "  'Instrumental_B': -2.5 * np.log10(row['aperture_sum_bkg_sub']),\n"
     ]
    },
    {
     "name": "stdout",
     "output_type": "stream",
     "text": [
      "Results saved to /Users/jonathan.a.chavez9/Desktop/greatBasinFilterCalibration/SA 98/calibrated_b/BResult_1.50498912204.csv\n"
     ]
    },
    {
     "name": "stderr",
     "output_type": "stream",
     "text": [
      "WARNING: FITSFixedWarning: RADECSYS= 'FK5 ' / Equatorial coordinate system \n",
      "the RADECSYS keyword is deprecated, use RADESYSa. [astropy.wcs.wcs]\n",
      "WARNING: FITSFixedWarning: 'datfix' made the change 'Set MJD-OBS to 60388.228386 from DATE-OBS'. [astropy.wcs.wcs]\n",
      "/var/folders/xh/69tqn8vn1vd5sw0_tn9ksy5w0000gn/T/ipykernel_43427/3994092875.py:66: RuntimeWarning: invalid value encountered in log10\n",
      "  'Instrumental_B': -2.5 * np.log10(row['aperture_sum_bkg_sub']),\n"
     ]
    },
    {
     "name": "stdout",
     "output_type": "stream",
     "text": [
      "Results saved to /Users/jonathan.a.chavez9/Desktop/greatBasinFilterCalibration/SA 98/calibrated_b/BResult_1.77435329864.csv\n"
     ]
    },
    {
     "name": "stderr",
     "output_type": "stream",
     "text": [
      "WARNING: FITSFixedWarning: RADECSYS= 'FK5 ' / Equatorial coordinate system \n",
      "the RADECSYS keyword is deprecated, use RADESYSa. [astropy.wcs.wcs]\n",
      "WARNING: FITSFixedWarning: 'datfix' made the change 'Set MJD-OBS to 60388.124647 from DATE-OBS'. [astropy.wcs.wcs]\n",
      "/var/folders/xh/69tqn8vn1vd5sw0_tn9ksy5w0000gn/T/ipykernel_43427/3994092875.py:66: RuntimeWarning: invalid value encountered in log10\n",
      "  'Instrumental_B': -2.5 * np.log10(row['aperture_sum_bkg_sub']),\n"
     ]
    },
    {
     "name": "stdout",
     "output_type": "stream",
     "text": [
      "Results saved to /Users/jonathan.a.chavez9/Desktop/greatBasinFilterCalibration/SA 98/calibrated_b/BResult_1.29910872708.csv\n"
     ]
    },
    {
     "name": "stderr",
     "output_type": "stream",
     "text": [
      "WARNING: FITSFixedWarning: RADECSYS= 'FK5 ' / Equatorial coordinate system \n",
      "the RADECSYS keyword is deprecated, use RADESYSa. [astropy.wcs.wcs]\n",
      "WARNING: FITSFixedWarning: 'datfix' made the change 'Set MJD-OBS to 60388.159322 from DATE-OBS'. [astropy.wcs.wcs]\n",
      "/var/folders/xh/69tqn8vn1vd5sw0_tn9ksy5w0000gn/T/ipykernel_43427/3994092875.py:66: RuntimeWarning: invalid value encountered in log10\n",
      "  'Instrumental_B': -2.5 * np.log10(row['aperture_sum_bkg_sub']),\n"
     ]
    },
    {
     "name": "stdout",
     "output_type": "stream",
     "text": [
      "Results saved to /Users/jonathan.a.chavez9/Desktop/greatBasinFilterCalibration/SA 98/calibrated_b/BResult_1.36141816757.csv\n"
     ]
    },
    {
     "name": "stderr",
     "output_type": "stream",
     "text": [
      "WARNING: FITSFixedWarning: RADECSYS= 'FK5 ' / Equatorial coordinate system \n",
      "the RADECSYS keyword is deprecated, use RADESYSa. [astropy.wcs.wcs]\n",
      "WARNING: FITSFixedWarning: 'datfix' made the change 'Set MJD-OBS to 60387.152643 from DATE-OBS'. [astropy.wcs.wcs]\n",
      "/var/folders/xh/69tqn8vn1vd5sw0_tn9ksy5w0000gn/T/ipykernel_43427/3994092875.py:66: RuntimeWarning: invalid value encountered in log10\n",
      "  'Instrumental_B': -2.5 * np.log10(row['aperture_sum_bkg_sub']),\n",
      "WARNING: FITSFixedWarning: RADECSYS= 'FK5 ' / Equatorial coordinate system \n",
      "the RADECSYS keyword is deprecated, use RADESYSa. [astropy.wcs.wcs]\n",
      "WARNING: FITSFixedWarning: 'datfix' made the change 'Set MJD-OBS to 60387.188870 from DATE-OBS'. [astropy.wcs.wcs]\n"
     ]
    },
    {
     "name": "stdout",
     "output_type": "stream",
     "text": [
      "Results saved to /Users/jonathan.a.chavez9/Desktop/greatBasinFilterCalibration/SA 98/calibrated_b/BResult_1.33751338933.csv\n",
      "Results saved to /Users/jonathan.a.chavez9/Desktop/greatBasinFilterCalibration/SA 98/calibrated_b/BResult_1.46380866299.csv\n"
     ]
    },
    {
     "name": "stderr",
     "output_type": "stream",
     "text": [
      "/var/folders/xh/69tqn8vn1vd5sw0_tn9ksy5w0000gn/T/ipykernel_43427/3994092875.py:66: RuntimeWarning: invalid value encountered in log10\n",
      "  'Instrumental_B': -2.5 * np.log10(row['aperture_sum_bkg_sub']),\n"
     ]
    }
   ],
   "source": [
    "import os\n",
    "import numpy as np\n",
    "import pandas as pd\n",
    "from astropy.io import fits\n",
    "from astropy.wcs import WCS\n",
    "from astropy.coordinates import SkyCoord\n",
    "import astropy.units as u\n",
    "from photutils.aperture import SkyCircularAperture, CircularAperture, SkyCircularAnnulus, aperture_photometry\n",
    "from astropy.stats import sigma_clipped_stats\n",
    "\n",
    "# Load APASS catalog CSV file\n",
    "apass_data = pd.read_csv(\"/Users/jonathan.a.chavez9/Desktop/greatBasinFilterCalibration/SA 98/apassSA98.csv\")\n",
    "\n",
    "# Define your base path for FITS files\n",
    "base_path = \"/Users/jonathan.a.chavez9/Desktop/greatBasinFilterCalibration/SA 98/calibrated_b\"\n",
    "\n",
    "# Iterate over each file in the directory\n",
    "for filename in os.listdir(base_path):\n",
    "    if filename.endswith('.fts'):\n",
    "        file_path = os.path.join(base_path, filename)\n",
    "        results = []  # Initialize the results list inside the loop for separate CSV for each file\n",
    "        try:\n",
    "            hdulist = fits.open(file_path)\n",
    "            data = hdulist[0].data\n",
    "            wcs = WCS(hdulist[0].header)\n",
    "            star_positions = SkyCoord(ra=apass_data['RA_degrees']*u.deg, dec=apass_data['Dec_degrees']*u.deg)\n",
    "\n",
    "            # Retrieve airmass from the FITS header\n",
    "            airmass = hdulist[0].header.get('AIRMASS', 'unknown')\n",
    "\n",
    "            # Define apertures and convert to pixel coordinates\n",
    "            apertures = SkyCircularAperture(star_positions, r=0.004 * u.deg)\n",
    "            pixel_apertures = apertures.to_pixel(wcs)\n",
    "\n",
    "            # Define annuli and convert to pixel coordinates for background estimation\n",
    "            annuli = SkyCircularAnnulus(star_positions, r_in=0.005 * u.deg, r_out=0.006 * u.deg)\n",
    "            pixel_annuli = annuli.to_pixel(wcs)\n",
    "\n",
    "            # Perform background subtraction using sigma clipping\n",
    "            bkg_median = []\n",
    "            for annulus in pixel_annuli:\n",
    "                mask = annulus.to_mask(method='center')\n",
    "                annulus_data = mask.multiply(data)\n",
    "                if np.any(mask.data > 0):  # Ensure data within mask\n",
    "                    annulus_data_1d = annulus_data[mask.data > 0]\n",
    "                    _, median_sigclip, _ = sigma_clipped_stats(annulus_data_1d)\n",
    "                    bkg_median.append(median_sigclip)\n",
    "                else:\n",
    "                    bkg_median.append(0)  # No data to process\n",
    "\n",
    "            bkg_median = np.array(bkg_median)\n",
    "            phot_table = aperture_photometry(data, pixel_apertures, error=np.sqrt(data), wcs=wcs)\n",
    "            phot_table['bkg_median'] = bkg_median\n",
    "            phot_table['aperture_sum_bkg_sub'] = phot_table['aperture_sum'] - bkg_median * np.array([ap.area for ap in pixel_apertures])\n",
    "\n",
    "            # Adding celestial coordinates\n",
    "            phot_table['ra_icrs'] = star_positions.ra.degree\n",
    "            phot_table['dec_icrs'] = star_positions.dec.degree\n",
    "\n",
    "            # Match photometry results with catalog data\n",
    "            for i, row in enumerate(phot_table):\n",
    "                catalog_match = apass_data.iloc[np.argmin(star_positions.separation(star_positions[i]).degree)]\n",
    "                results.append({\n",
    "                    'RA': row['ra_icrs'],\n",
    "                    'DEC': row['dec_icrs'],\n",
    "                    'Instrumental_B': -2.5 * np.log10(row['aperture_sum_bkg_sub']),\n",
    "                    'InstrumentalB_err': 1.0857 * row['aperture_sum_err'] / row['aperture_sum'],\n",
    "                    'Known_B': catalog_match['B'],\n",
    "                    'KnownB_err': catalog_match['B_err']\n",
    "                })\n",
    "\n",
    "            results_df = pd.DataFrame(results)\n",
    "            csv_filename = f\"BResult_{airmass}.csv\"\n",
    "            csv_file_path = os.path.join(base_path, csv_filename)\n",
    "            results_df.to_csv(csv_file_path, index=False)\n",
    "            print(f\"Results saved to {csv_file_path}\")\n",
    "\n",
    "        except Exception as e:\n",
    "            print(f\"Failed to process {filename}: {e}\")\n"
   ]
  },
  {
   "cell_type": "markdown",
   "id": "62e96cf7",
   "metadata": {},
   "source": [
    "## V Filter"
   ]
  },
  {
   "cell_type": "code",
   "execution_count": 39,
   "id": "2d354197",
   "metadata": {},
   "outputs": [
    {
     "name": "stderr",
     "output_type": "stream",
     "text": [
      "WARNING: FITSFixedWarning: RADECSYS= 'FK5 ' / Equatorial coordinate system \n",
      "the RADECSYS keyword is deprecated, use RADESYSa. [astropy.wcs.wcs]\n",
      "WARNING: FITSFixedWarning: 'datfix' made the change 'Set MJD-OBS to 60388.224630 from DATE-OBS'. [astropy.wcs.wcs]\n",
      "/var/folders/xh/69tqn8vn1vd5sw0_tn9ksy5w0000gn/T/ipykernel_30578/4058917012.py:66: RuntimeWarning: invalid value encountered in log10\n",
      "  'Instrumental_V': -2.5 * np.log10(row['aperture_sum_bkg_sub']),\n"
     ]
    },
    {
     "name": "stdout",
     "output_type": "stream",
     "text": [
      "Results saved to /Users/jonathan.a.chavez9/Desktop/greatBasinFilterCalibration/SA 98/calibrated_v/VResult_1.73625197253.csv\n"
     ]
    },
    {
     "name": "stderr",
     "output_type": "stream",
     "text": [
      "WARNING: FITSFixedWarning: RADECSYS= 'FK5 ' / Equatorial coordinate system \n",
      "the RADECSYS keyword is deprecated, use RADESYSa. [astropy.wcs.wcs]\n",
      "WARNING: FITSFixedWarning: 'datfix' made the change 'Set MJD-OBS to 60387.156370 from DATE-OBS'. [astropy.wcs.wcs]\n",
      "/var/folders/xh/69tqn8vn1vd5sw0_tn9ksy5w0000gn/T/ipykernel_30578/4058917012.py:66: RuntimeWarning: invalid value encountered in log10\n",
      "  'Instrumental_V': -2.5 * np.log10(row['aperture_sum_bkg_sub']),\n",
      "WARNING: FITSFixedWarning: RADECSYS= 'FK5 ' / Equatorial coordinate system \n",
      "the RADECSYS keyword is deprecated, use RADESYSa. [astropy.wcs.wcs]\n"
     ]
    },
    {
     "name": "stdout",
     "output_type": "stream",
     "text": [
      "Results saved to /Users/jonathan.a.chavez9/Desktop/greatBasinFilterCalibration/SA 98/calibrated_v/VResult_1.34628560154.csv\n"
     ]
    },
    {
     "name": "stderr",
     "output_type": "stream",
     "text": [
      "WARNING: FITSFixedWarning: 'datfix' made the change 'Set MJD-OBS to 60388.155571 from DATE-OBS'. [astropy.wcs.wcs]\n",
      "/var/folders/xh/69tqn8vn1vd5sw0_tn9ksy5w0000gn/T/ipykernel_30578/4058917012.py:66: RuntimeWarning: invalid value encountered in log10\n",
      "  'Instrumental_V': -2.5 * np.log10(row['aperture_sum_bkg_sub']),\n",
      "WARNING: FITSFixedWarning: RADECSYS= 'FK5 ' / Equatorial coordinate system \n",
      "the RADECSYS keyword is deprecated, use RADESYSa. [astropy.wcs.wcs]\n"
     ]
    },
    {
     "name": "stdout",
     "output_type": "stream",
     "text": [
      "Results saved to /Users/jonathan.a.chavez9/Desktop/greatBasinFilterCalibration/SA 98/calibrated_v/VResult_1.35117580144.csv\n"
     ]
    },
    {
     "name": "stderr",
     "output_type": "stream",
     "text": [
      "WARNING: FITSFixedWarning: 'datfix' made the change 'Set MJD-OBS to 60388.120881 from DATE-OBS'. [astropy.wcs.wcs]\n",
      "/var/folders/xh/69tqn8vn1vd5sw0_tn9ksy5w0000gn/T/ipykernel_30578/4058917012.py:66: RuntimeWarning: invalid value encountered in log10\n",
      "  'Instrumental_V': -2.5 * np.log10(row['aperture_sum_bkg_sub']),\n",
      "WARNING: FITSFixedWarning: RADECSYS= 'FK5 ' / Equatorial coordinate system \n",
      "the RADECSYS keyword is deprecated, use RADESYSa. [astropy.wcs.wcs]\n"
     ]
    },
    {
     "name": "stdout",
     "output_type": "stream",
     "text": [
      "Results saved to /Users/jonathan.a.chavez9/Desktop/greatBasinFilterCalibration/SA 98/calibrated_v/VResult_1.29636057409.csv\n"
     ]
    },
    {
     "name": "stderr",
     "output_type": "stream",
     "text": [
      "WARNING: FITSFixedWarning: 'datfix' made the change 'Set MJD-OBS to 60388.190187 from DATE-OBS'. [astropy.wcs.wcs]\n",
      "/var/folders/xh/69tqn8vn1vd5sw0_tn9ksy5w0000gn/T/ipykernel_30578/4058917012.py:66: RuntimeWarning: invalid value encountered in log10\n",
      "  'Instrumental_V': -2.5 * np.log10(row['aperture_sum_bkg_sub']),\n"
     ]
    },
    {
     "name": "stdout",
     "output_type": "stream",
     "text": [
      "Results saved to /Users/jonathan.a.chavez9/Desktop/greatBasinFilterCalibration/SA 98/calibrated_v/VResult_1.48439362663.csv\n",
      "Results saved to /Users/jonathan.a.chavez9/Desktop/greatBasinFilterCalibration/SA 98/calibrated_v/VResult_1.48271201828.csv\n"
     ]
    },
    {
     "name": "stderr",
     "output_type": "stream",
     "text": [
      "WARNING: FITSFixedWarning: RADECSYS= 'FK5 ' / Equatorial coordinate system \n",
      "the RADECSYS keyword is deprecated, use RADESYSa. [astropy.wcs.wcs]\n",
      "WARNING: FITSFixedWarning: 'datfix' made the change 'Set MJD-OBS to 60387.192602 from DATE-OBS'. [astropy.wcs.wcs]\n",
      "/var/folders/xh/69tqn8vn1vd5sw0_tn9ksy5w0000gn/T/ipykernel_30578/4058917012.py:66: RuntimeWarning: invalid value encountered in log10\n",
      "  'Instrumental_V': -2.5 * np.log10(row['aperture_sum_bkg_sub']),\n"
     ]
    }
   ],
   "source": [
    "import os\n",
    "import numpy as np\n",
    "import pandas as pd\n",
    "from astropy.io import fits\n",
    "from astropy.wcs import WCS\n",
    "from astropy.coordinates import SkyCoord\n",
    "import astropy.units as u\n",
    "from photutils.aperture import SkyCircularAperture, CircularAperture, SkyCircularAnnulus, aperture_photometry\n",
    "from astropy.stats import sigma_clipped_stats\n",
    "\n",
    "# Load APASS catalog CSV file\n",
    "apass_data = pd.read_csv(\"/Users/jonathan.a.chavez9/Desktop/greatBasinFilterCalibration/SA 98/apassSA98.csv\")\n",
    "\n",
    "# Define your base path for FITS files\n",
    "base_path = \"/Users/jonathan.a.chavez9/Desktop/greatBasinFilterCalibration/SA 98/calibrated_v\"\n",
    "\n",
    "# Iterate over each file in the directory\n",
    "for filename in os.listdir(base_path):\n",
    "    if filename.endswith('.fts'):\n",
    "        file_path = os.path.join(base_path, filename)\n",
    "        results = []  # Initialize the results list inside the loop for separate CSV for each file\n",
    "        try:\n",
    "            hdulist = fits.open(file_path)\n",
    "            data = hdulist[0].data\n",
    "            wcs = WCS(hdulist[0].header)\n",
    "            star_positions = SkyCoord(ra=apass_data['RA_degrees']*u.deg, dec=apass_data['Dec_degrees']*u.deg)\n",
    "\n",
    "            # Retrieve airmass from the FITS header\n",
    "            airmass = hdulist[0].header.get('AIRMASS', 'unknown')\n",
    "\n",
    "            # Define apertures and convert to pixel coordinates\n",
    "            apertures = SkyCircularAperture(star_positions, r=0.004 * u.deg)\n",
    "            pixel_apertures = apertures.to_pixel(wcs)\n",
    "\n",
    "            # Define annuli and convert to pixel coordinates for background estimation\n",
    "            annuli = SkyCircularAnnulus(star_positions, r_in=0.005 * u.deg, r_out=0.006 * u.deg)\n",
    "            pixel_annuli = annuli.to_pixel(wcs)\n",
    "\n",
    "            # Perform background subtraction using sigma clipping\n",
    "            bkg_median = []\n",
    "            for annulus in pixel_annuli:\n",
    "                mask = annulus.to_mask(method='center')\n",
    "                annulus_data = mask.multiply(data)\n",
    "                if np.any(mask.data > 0):  # Ensure data within mask\n",
    "                    annulus_data_1d = annulus_data[mask.data > 0]\n",
    "                    _, median_sigclip, _ = sigma_clipped_stats(annulus_data_1d)\n",
    "                    bkg_median.append(median_sigclip)\n",
    "                else:\n",
    "                    bkg_median.append(0)  # No data to process\n",
    "\n",
    "            bkg_median = np.array(bkg_median)\n",
    "            phot_table = aperture_photometry(data, pixel_apertures, error=np.sqrt(data), wcs=wcs)\n",
    "            phot_table['bkg_median'] = bkg_median\n",
    "            phot_table['aperture_sum_bkg_sub'] = phot_table['aperture_sum'] - bkg_median * np.array([ap.area for ap in pixel_apertures])\n",
    "\n",
    "            # Adding celestial coordinates\n",
    "            phot_table['ra_icrs'] = star_positions.ra.degree\n",
    "            phot_table['dec_icrs'] = star_positions.dec.degree\n",
    "\n",
    "            # Match photometry results with catalog data\n",
    "            for i, row in enumerate(phot_table):\n",
    "                catalog_match = apass_data.iloc[np.argmin(star_positions.separation(star_positions[i]).degree)]\n",
    "                results.append({\n",
    "                    'RA': row['ra_icrs'],\n",
    "                    'DEC': row['dec_icrs'],\n",
    "                    'Instrumental_V': -2.5 * np.log10(row['aperture_sum_bkg_sub']),\n",
    "                    'InstrumentalV_err': 1.0857 * row['aperture_sum_err'] / row['aperture_sum'],\n",
    "                    'Known_V': catalog_match['V'],\n",
    "                    'KnownV_err': catalog_match['V_err']\n",
    "                })\n",
    "\n",
    "            results_df = pd.DataFrame(results)\n",
    "            csv_filename = f\"VResult_{airmass}.csv\"\n",
    "            csv_file_path = os.path.join(base_path, csv_filename)\n",
    "            results_df.to_csv(csv_file_path, index=False)\n",
    "            print(f\"Results saved to {csv_file_path}\")\n",
    "\n",
    "        except Exception as e:\n",
    "            print(f\"Failed to process {filename}: {e}\")\n"
   ]
  },
  {
   "cell_type": "code",
   "execution_count": null,
   "id": "57497db1",
   "metadata": {},
   "outputs": [],
   "source": []
  }
 ],
 "metadata": {
  "kernelspec": {
   "display_name": "Python 3 (ipykernel)",
   "language": "python",
   "name": "python3"
  },
  "language_info": {
   "codemirror_mode": {
    "name": "ipython",
    "version": 3
   },
   "file_extension": ".py",
   "mimetype": "text/x-python",
   "name": "python",
   "nbconvert_exporter": "python",
   "pygments_lexer": "ipython3",
   "version": "3.11.4"
  }
 },
 "nbformat": 4,
 "nbformat_minor": 5
}
