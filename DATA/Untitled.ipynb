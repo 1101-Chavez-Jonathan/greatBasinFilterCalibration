{
 "cells": [
  {
   "cell_type": "code",
   "execution_count": 23,
   "id": "64c1e60f",
   "metadata": {},
   "outputs": [
    {
     "name": "stdout",
     "output_type": "stream",
     "text": [
      "    Transformation Coefficients Second Order Extinction Coefficients\n",
      "0  $T_{bbv}$ = -0.0152 ± 0.0379        $k\"_{bbv}$ = -0.1810 ± 0.0246\n",
      "1  $T_{vbv}$ = -0.1791 ± 0.1557        $k\"_{vbv}$ = -0.2527 ± 0.1035\n",
      "2  $T_{rvr}$ = -1.2857 ± 0.0410        $k\"_{rvr}$ = -0.1509 ± 0.0266\n",
      "3  $T_{ivi}$ = -1.3662 ± 0.7165        $k\"_{ivi}$ = -0.5676 ± 0.4653\n"
     ]
    },
    {
     "data": {
      "text/html": [
       "<table border=\"1\" class=\"dataframe\">\n",
       "  <thead>\n",
       "    <tr style=\"text-align: right;\">\n",
       "      <th>Transformation Coefficients</th>\n",
       "      <th>Second Order Extinction Coefficients</th>\n",
       "    </tr>\n",
       "  </thead>\n",
       "  <tbody>\n",
       "    <tr>\n",
       "      <td>$T_{bbv}$ = -0.0152 ± 0.0379</td>\n",
       "      <td>$k\"_{bbv}$ = -0.1810 ± 0.0246</td>\n",
       "    </tr>\n",
       "    <tr>\n",
       "      <td>$T_{vbv}$ = -0.1791 ± 0.1557</td>\n",
       "      <td>$k\"_{vbv}$ = -0.2527 ± 0.1035</td>\n",
       "    </tr>\n",
       "    <tr>\n",
       "      <td>$T_{rvr}$ = -1.2857 ± 0.0410</td>\n",
       "      <td>$k\"_{rvr}$ = -0.1509 ± 0.0266</td>\n",
       "    </tr>\n",
       "    <tr>\n",
       "      <td>$T_{ivi}$ = -1.3662 ± 0.7165</td>\n",
       "      <td>$k\"_{ivi}$ = -0.5676 ± 0.4653</td>\n",
       "    </tr>\n",
       "  </tbody>\n",
       "</table>"
      ],
      "text/plain": [
       "<IPython.core.display.HTML object>"
      ]
     },
     "metadata": {},
     "output_type": "display_data"
    }
   ],
   "source": [
    "import pandas as pd\n",
    "\n",
    "# Prepare the data as a dictionary\n",
    "data = {\n",
    "    \"Transformation Coefficients\": [\"$T_{bbv}$ = -0.0152 ± 0.0379\", \"$T_{vbv}$ = -0.1791 ± 0.1557\", \"$T_{rvr}$ = -1.2857 ± 0.0410\", \"$T_{ivi}$ = -1.3662 ± 0.7165\"],\n",
    "    \"Second Order Extinction Coefficients\": ['$k\"_{bbv}$ = -0.1810 ± 0.0246', '$k\"_{vbv}$ = -0.2527 ± 0.1035', '$k\"_{rvr}$ = -0.1509 ± 0.0266', '$k\"_{ivi}$ = -0.5676 ± 0.4653'],\n",
    "}\n",
    "\n",
    "# Create DataFrame\n",
    "df = pd.DataFrame(data)\n",
    "\n",
    "# Print the DataFrame to view it\n",
    "print(df)\n",
    "\n",
    "pd.set_option(\"display.precision\", 3)\n",
    "pd.set_option(\"max_colwidth\", None)  # Adjust column width to fit content\n",
    "\n",
    "from IPython.display import display, HTML\n",
    "display(HTML(df.to_html(index=False)))\n"
   ]
  },
  {
   "cell_type": "code",
   "execution_count": 30,
   "id": "f35efe46",
   "metadata": {},
   "outputs": [
    {
     "name": "stderr",
     "output_type": "stream",
     "text": [
      "/var/folders/xh/69tqn8vn1vd5sw0_tn9ksy5w0000gn/T/ipykernel_51465/1264233684.py:22: FutureWarning: this method is deprecated in favour of `Styler.to_html()`\n",
      "  display(HTML(styled_df.render()))\n"
     ]
    },
    {
     "data": {
      "text/html": [
       "<style type=\"text/css\">\n",
       "#T_b90e5_row0_col0, #T_b90e5_row0_col1, #T_b90e5_row1_col0, #T_b90e5_row1_col1, #T_b90e5_row2_col0, #T_b90e5_row2_col1, #T_b90e5_row3_col0, #T_b90e5_row3_col1 {\n",
       "  text-align: center;\n",
       "  background-color: #f4f4f4;\n",
       "  color: black;\n",
       "  border-color: black;\n",
       "}\n",
       "</style>\n",
       "<table id=\"T_b90e5\">\n",
       "  <thead>\n",
       "    <tr>\n",
       "      <th class=\"blank level0\" >&nbsp;</th>\n",
       "      <th id=\"T_b90e5_level0_col0\" class=\"col_heading level0 col0\" >Transformation Coefficients</th>\n",
       "      <th id=\"T_b90e5_level0_col1\" class=\"col_heading level0 col1\" >Second Order Extinction Coefficients</th>\n",
       "    </tr>\n",
       "  </thead>\n",
       "  <tbody>\n",
       "    <tr>\n",
       "      <th id=\"T_b90e5_level0_row0\" class=\"row_heading level0 row0\" >0</th>\n",
       "      <td id=\"T_b90e5_row0_col0\" class=\"data row0 col0\" >$T_{bbv}$ = -0.0152 ± 0.0379</td>\n",
       "      <td id=\"T_b90e5_row0_col1\" class=\"data row0 col1\" >$k\"_{bbv}$ = -0.1810 ± 0.0246</td>\n",
       "    </tr>\n",
       "    <tr>\n",
       "      <th id=\"T_b90e5_level0_row1\" class=\"row_heading level0 row1\" >1</th>\n",
       "      <td id=\"T_b90e5_row1_col0\" class=\"data row1 col0\" >$T_{vbv}$ = -0.1791 ± 0.1557</td>\n",
       "      <td id=\"T_b90e5_row1_col1\" class=\"data row1 col1\" >$k\"_{vbv}$ = -0.2527 ± 0.1035</td>\n",
       "    </tr>\n",
       "    <tr>\n",
       "      <th id=\"T_b90e5_level0_row2\" class=\"row_heading level0 row2\" >2</th>\n",
       "      <td id=\"T_b90e5_row2_col0\" class=\"data row2 col0\" >$T_{rvr}$ = -1.2857 ± 0.0410</td>\n",
       "      <td id=\"T_b90e5_row2_col1\" class=\"data row2 col1\" >$k\"_{rvr}$ = -0.1509 ± 0.0266</td>\n",
       "    </tr>\n",
       "    <tr>\n",
       "      <th id=\"T_b90e5_level0_row3\" class=\"row_heading level0 row3\" >3</th>\n",
       "      <td id=\"T_b90e5_row3_col0\" class=\"data row3 col0\" >$T_{ivi}$ = -1.3662 ± 0.7165</td>\n",
       "      <td id=\"T_b90e5_row3_col1\" class=\"data row3 col1\" >$k\"_{ivi}$ = -0.5676 ± 0.4653</td>\n",
       "    </tr>\n",
       "  </tbody>\n",
       "</table>\n"
      ],
      "text/plain": [
       "<IPython.core.display.HTML object>"
      ]
     },
     "metadata": {},
     "output_type": "display_data"
    }
   ],
   "source": [
    "import pandas as pd\n",
    "\n",
    "# Prepare the data as a dictionary\n",
    "data = {\n",
    "    \"Transformation Coefficients\": [\"$T_{bbv}$ = -0.0152 ± 0.0379\", \"$T_{vbv}$ = -0.1791 ± 0.1557\", \"$T_{rvr}$ = -1.2857 ± 0.0410\", \"$T_{ivi}$ = -1.3662 ± 0.7165\"],\n",
    "    \"Second Order Extinction Coefficients\": ['$k\"_{bbv}$ = -0.1810 ± 0.0246', '$k\"_{vbv}$ = -0.2527 ± 0.1035', '$k\"_{rvr}$ = -0.1509 ± 0.0266', '$k\"_{ivi}$ = -0.5676 ± 0.4653'],\n",
    "}\n",
    "\n",
    "# Create DataFrame\n",
    "df = pd.DataFrame(data)\n",
    "\n",
    "# Using Styler to apply text centering and optional color\n",
    "styled_df = df.style.set_properties(**{\n",
    "    'text-align': 'center',\n",
    "    'background-color': '#f4f4f4',  # light grey background for all cells\n",
    "    'color': 'black',  # text color\n",
    "    'border-color': 'black'  # border color\n",
    "})\n",
    "\n",
    "# Display styled DataFrame\n",
    "from IPython.display import display, HTML\n",
    "display(HTML(styled_df.render()))\n"
   ]
  },
  {
   "cell_type": "code",
   "execution_count": 31,
   "id": "910511d4",
   "metadata": {},
   "outputs": [
    {
     "name": "stderr",
     "output_type": "stream",
     "text": [
      "/var/folders/xh/69tqn8vn1vd5sw0_tn9ksy5w0000gn/T/ipykernel_51465/1518666290.py:24: FutureWarning: this method is deprecated in favour of `Styler.to_html()`\n",
      "  display(HTML(styled_df.render()))\n"
     ]
    },
    {
     "data": {
      "text/html": [
       "<style type=\"text/css\">\n",
       "#T_eee79_row0_col0, #T_eee79_row0_col1, #T_eee79_row1_col0, #T_eee79_row1_col1, #T_eee79_row2_col0, #T_eee79_row2_col1, #T_eee79_row3_col0, #T_eee79_row3_col1 {\n",
       "  text-align: center;\n",
       "  background-color: #f4f4f4;\n",
       "  color: black;\n",
       "  border-color: black;\n",
       "}\n",
       "</style>\n",
       "<table id=\"T_eee79\">\n",
       "  <thead>\n",
       "    <tr>\n",
       "      <th class=\"blank level0\" >&nbsp;</th>\n",
       "      <th id=\"T_eee79_level0_col0\" class=\"col_heading level0 col0\" >Zero Point Calculations</th>\n",
       "      <th id=\"T_eee79_level0_col1\" class=\"col_heading level0 col1\" >First Order Extinction Coefficients</th>\n",
       "    </tr>\n",
       "  </thead>\n",
       "  <tbody>\n",
       "    <tr>\n",
       "      <th id=\"T_eee79_level0_row0\" class=\"row_heading level0 row0\" >0</th>\n",
       "      <td id=\"T_eee79_row0_col0\" class=\"data row0 col0\" >$Z_b$ = 27.5876 ± 0.0595</td>\n",
       "      <td id=\"T_eee79_row0_col1\" class=\"data row0 col1\" >$K'_b$ = 0.3860 ± 0.0385</td>\n",
       "    </tr>\n",
       "    <tr>\n",
       "      <th id=\"T_eee79_level0_row1\" class=\"row_heading level0 row1\" >1</th>\n",
       "      <td id=\"T_eee79_row1_col0\" class=\"data row1 col0\" >$Z_v$ = 28.3706 ± 0.1882</td>\n",
       "      <td id=\"T_eee79_row1_col1\" class=\"data row1 col1\" >$K'_v$ = 0.1893 ± 0.1259</td>\n",
       "    </tr>\n",
       "    <tr>\n",
       "      <th id=\"T_eee79_level0_row2\" class=\"row_heading level0 row2\" >2</th>\n",
       "      <td id=\"T_eee79_row2_col0\" class=\"data row2 col0\" >$Z_r$ = 28.1360 ± 0.0357</td>\n",
       "      <td id=\"T_eee79_row2_col1\" class=\"data row2 col1\" >$K'_r$ = 0.1701 ± 0.0229</td>\n",
       "    </tr>\n",
       "    <tr>\n",
       "      <th id=\"T_eee79_level0_row3\" class=\"row_heading level0 row3\" >3</th>\n",
       "      <td id=\"T_eee79_row3_col0\" class=\"data row3 col0\" >$Z_i$ = 28.1907 ± 0.7646</td>\n",
       "      <td id=\"T_eee79_row3_col1\" class=\"data row3 col1\" >$K'_i$ = 0.7147 ± 0.4865</td>\n",
       "    </tr>\n",
       "  </tbody>\n",
       "</table>\n"
      ],
      "text/plain": [
       "<IPython.core.display.HTML object>"
      ]
     },
     "metadata": {},
     "output_type": "display_data"
    }
   ],
   "source": [
    "import pandas as pd\n",
    "from IPython.display import display, HTML\n",
    "\n",
    "# Prepare the new data as a dictionary\n",
    "data = {\n",
    "    \"Zero Point Calculations\": [\"$Z_b$ = 27.5876 ± 0.0595\", \"$Z_v$ = 28.3706 ± 0.1882\", \n",
    "                                \"$Z_r$ = 28.1360 ± 0.0357\", \"$Z_i$ = 28.1907 ± 0.7646\"],\n",
    "    \"First Order Extinction Coefficients\": [\"$K'_b$ = 0.3860 ± 0.0385\", \"$K'_v$ = 0.1893 ± 0.1259\", \n",
    "                                            \"$K'_r$ = 0.1701 ± 0.0229\", \"$K'_i$ = 0.7147 ± 0.4865\"]\n",
    "}\n",
    "\n",
    "# Create DataFrame\n",
    "df = pd.DataFrame(data)\n",
    "\n",
    "# Styling the DataFrame\n",
    "styled_df = df.style.set_properties(**{\n",
    "    'text-align': 'center',\n",
    "    'background-color': '#f4f4f4',  # light grey background for all cells\n",
    "    'color': 'black',  # text color\n",
    "    'border-color': 'black'  # border colortran$\n",
    "})\n",
    "\n",
    "# Display styled DataFrame\n",
    "display(HTML(styled_df.render()))\n"
   ]
  },
  {
   "cell_type": "code",
   "execution_count": null,
   "id": "8ab1eff0",
   "metadata": {},
   "outputs": [],
   "source": []
  }
 ],
 "metadata": {
  "kernelspec": {
   "display_name": "Python 3 (ipykernel)",
   "language": "python",
   "name": "python3"
  },
  "language_info": {
   "codemirror_mode": {
    "name": "ipython",
    "version": 3
   },
   "file_extension": ".py",
   "mimetype": "text/x-python",
   "name": "python",
   "nbconvert_exporter": "python",
   "pygments_lexer": "ipython3",
   "version": "3.11.4"
  }
 },
 "nbformat": 4,
 "nbformat_minor": 5
}
