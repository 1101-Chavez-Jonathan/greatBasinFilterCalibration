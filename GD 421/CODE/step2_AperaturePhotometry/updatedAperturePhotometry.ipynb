{
 "cells": [
  {
   "cell_type": "markdown",
   "id": "15a3db31",
   "metadata": {},
   "source": [
    "## I Filter"
   ]
  },
  {
   "cell_type": "code",
   "execution_count": 1,
   "id": "f6fcfa4d",
   "metadata": {
    "scrolled": true
   },
   "outputs": [
    {
     "name": "stderr",
     "output_type": "stream",
     "text": [
      "WARNING: FITSFixedWarning: RADECSYS= 'FK5 ' / Equatorial coordinate system \n",
      "the RADECSYS keyword is deprecated, use RADESYSa. [astropy.wcs.wcs]\n",
      "WARNING: FITSFixedWarning: 'datfix' made the change 'Set MJD-OBS to 60387.219110 from DATE-OBS'. [astropy.wcs.wcs]\n"
     ]
    },
    {
     "name": "stdout",
     "output_type": "stream",
     "text": [
      "Results saved to /Users/jonathan.a.chavez9/Desktop/greatBasinFilterCalibration/GD 421/calibrated_i/IResult_2.15076185278.csv\n",
      "Results saved to /Users/jonathan.a.chavez9/Desktop/greatBasinFilterCalibration/GD 421/calibrated_i/IResult_2.16714233109.csv\n"
     ]
    },
    {
     "name": "stderr",
     "output_type": "stream",
     "text": [
      "WARNING: FITSFixedWarning: RADECSYS= 'FK5 ' / Equatorial coordinate system \n",
      "the RADECSYS keyword is deprecated, use RADESYSa. [astropy.wcs.wcs]\n",
      "WARNING: FITSFixedWarning: 'datfix' made the change 'Set MJD-OBS to 60388.218474 from DATE-OBS'. [astropy.wcs.wcs]\n",
      "WARNING: FITSFixedWarning: RADECSYS= 'FK5 ' / Equatorial coordinate system \n",
      "the RADECSYS keyword is deprecated, use RADESYSa. [astropy.wcs.wcs]\n",
      "WARNING: FITSFixedWarning: 'datfix' made the change 'Set MJD-OBS to 60387.142966 from DATE-OBS'. [astropy.wcs.wcs]\n"
     ]
    },
    {
     "name": "stdout",
     "output_type": "stream",
     "text": [
      "Results saved to /Users/jonathan.a.chavez9/Desktop/greatBasinFilterCalibration/GD 421/calibrated_i/IResult_1.66239524237.csv\n",
      "Results saved to /Users/jonathan.a.chavez9/Desktop/greatBasinFilterCalibration/GD 421/calibrated_i/IResult_1.71013678925.csv\n"
     ]
    },
    {
     "name": "stderr",
     "output_type": "stream",
     "text": [
      "WARNING: FITSFixedWarning: RADECSYS= 'FK5 ' / Equatorial coordinate system \n",
      "the RADECSYS keyword is deprecated, use RADESYSa. [astropy.wcs.wcs]\n",
      "WARNING: FITSFixedWarning: 'datfix' made the change 'Set MJD-OBS to 60388.149359 from DATE-OBS'. [astropy.wcs.wcs]\n",
      "WARNING: FITSFixedWarning: RADECSYS= 'FK5 ' / Equatorial coordinate system \n",
      "the RADECSYS keyword is deprecated, use RADESYSa. [astropy.wcs.wcs]\n",
      "WARNING: FITSFixedWarning: 'datfix' made the change 'Set MJD-OBS to 60387.181834 from DATE-OBS'. [astropy.wcs.wcs]\n"
     ]
    },
    {
     "name": "stdout",
     "output_type": "stream",
     "text": [
      "Results saved to /Users/jonathan.a.chavez9/Desktop/greatBasinFilterCalibration/GD 421/calibrated_i/IResult_1.88574519777.csv\n",
      "Results saved to /Users/jonathan.a.chavez9/Desktop/greatBasinFilterCalibration/GD 421/calibrated_i/IResult_2.45572372756.csv\n",
      "Results saved to /Users/jonathan.a.chavez9/Desktop/greatBasinFilterCalibration/GD 421/calibrated_i/IResult_1.91706279757.csv\n"
     ]
    },
    {
     "name": "stderr",
     "output_type": "stream",
     "text": [
      "WARNING: FITSFixedWarning: RADECSYS= 'FK5 ' / Equatorial coordinate system \n",
      "the RADECSYS keyword is deprecated, use RADESYSa. [astropy.wcs.wcs]\n",
      "WARNING: FITSFixedWarning: 'datfix' made the change 'Set MJD-OBS to 60388.252969 from DATE-OBS'. [astropy.wcs.wcs]\n",
      "WARNING: FITSFixedWarning: RADECSYS= 'FK5 ' / Equatorial coordinate system \n",
      "the RADECSYS keyword is deprecated, use RADESYSa. [astropy.wcs.wcs]\n",
      "WARNING: FITSFixedWarning: 'datfix' made the change 'Set MJD-OBS to 60388.183905 from DATE-OBS'. [astropy.wcs.wcs]\n"
     ]
    }
   ],
   "source": [
    "import os\n",
    "import numpy as np\n",
    "import pandas as pd\n",
    "from astropy.io import fits\n",
    "from astropy.wcs import WCS\n",
    "from astropy.coordinates import SkyCoord\n",
    "import astropy.units as u\n",
    "from photutils.aperture import SkyCircularAperture, CircularAperture, SkyCircularAnnulus, aperture_photometry\n",
    "from astropy.stats import sigma_clipped_stats\n",
    "\n",
    "# Load APASS catalog CSV file\n",
    "apass_data = pd.read_csv(\"/Users/jonathan.a.chavez9/Desktop/greatBasinFilterCalibration/GD 421/apassGD421.csv\")\n",
    "\n",
    "# Define your base path for FITS files\n",
    "base_path = \"/Users/jonathan.a.chavez9/Desktop/greatBasinFilterCalibration/GD 421/calibrated_i\"\n",
    "\n",
    "# Iterate over each file in the directory\n",
    "for filename in os.listdir(base_path):\n",
    "    if filename.endswith('.fts'):\n",
    "        file_path = os.path.join(base_path, filename)\n",
    "        results = []  # Initialize the results list inside the loop for separate CSV for each file\n",
    "        try:\n",
    "            hdulist = fits.open(file_path)\n",
    "            data = hdulist[0].data\n",
    "            wcs = WCS(hdulist[0].header)\n",
    "            star_positions = SkyCoord(ra=apass_data['RA_degrees']*u.deg, dec=apass_data['Dec_degrees']*u.deg)\n",
    "\n",
    "            # Retrieve airmass from the FITS header\n",
    "            airmass = hdulist[0].header.get('AIRMASS', 'unknown')\n",
    "\n",
    "            # Define apertures and convert to pixel coordinates\n",
    "            apertures = SkyCircularAperture(star_positions, r=0.004 * u.deg)\n",
    "            pixel_apertures = apertures.to_pixel(wcs)\n",
    "\n",
    "            # Define annuli and convert to pixel coordinates for background estimation\n",
    "            annuli = SkyCircularAnnulus(star_positions, r_in=0.005 * u.deg, r_out=0.006 * u.deg)\n",
    "            pixel_annuli = annuli.to_pixel(wcs)\n",
    "\n",
    "            # Perform background subtraction using sigma clipping\n",
    "            bkg_median = []\n",
    "            for annulus in pixel_annuli:\n",
    "                mask = annulus.to_mask(method='center')\n",
    "                annulus_data = mask.multiply(data)\n",
    "                if np.any(mask.data > 0):  # Ensure data within mask\n",
    "                    annulus_data_1d = annulus_data[mask.data > 0]\n",
    "                    _, median_sigclip, _ = sigma_clipped_stats(annulus_data_1d)\n",
    "                    bkg_median.append(median_sigclip)\n",
    "                else:\n",
    "                    bkg_median.append(0)  # No data to process\n",
    "\n",
    "            bkg_median = np.array(bkg_median)\n",
    "            phot_table = aperture_photometry(data, pixel_apertures, error=np.sqrt(data), wcs=wcs)\n",
    "            phot_table['bkg_median'] = bkg_median\n",
    "            phot_table['aperture_sum_bkg_sub'] = phot_table['aperture_sum'] - bkg_median * np.array([ap.area for ap in pixel_apertures])\n",
    "\n",
    "            # Adding celestial coordinates\n",
    "            phot_table['ra_icrs'] = star_positions.ra.degree\n",
    "            phot_table['dec_icrs'] = star_positions.dec.degree\n",
    "\n",
    "            # Match photometry results with catalog data\n",
    "            for i, row in enumerate(phot_table):\n",
    "                catalog_match = apass_data.iloc[np.argmin(star_positions.separation(star_positions[i]).degree)]\n",
    "                results.append({\n",
    "                    'RA': row['ra_icrs'],\n",
    "                    'DEC': row['dec_icrs'],\n",
    "                    'Instrumental_I': -2.5 * np.log10(row['aperture_sum_bkg_sub']),\n",
    "                    'InstrumentalI_err': 1.0857 * row['aperture_sum_err'] / row['aperture_sum'],\n",
    "                    'Known_I': catalog_match['Ic'],\n",
    "                    'KnownI_err': catalog_match['Ic_err']\n",
    "                })\n",
    "\n",
    "            results_df = pd.DataFrame(results)\n",
    "            csv_filename = f\"IResult_{airmass}.csv\"\n",
    "            csv_file_path = os.path.join(base_path, csv_filename)\n",
    "            results_df.to_csv(csv_file_path, index=False)\n",
    "            print(f\"Results saved to {csv_file_path}\")\n",
    "\n",
    "        except Exception as e:\n",
    "            print(f\"Failed to process {filename}: {e}\")\n",
    "\n",
    "\n",
    "\n"
   ]
  },
  {
   "cell_type": "markdown",
   "id": "eba14d17",
   "metadata": {},
   "source": [
    "## R Filter"
   ]
  },
  {
   "cell_type": "code",
   "execution_count": 5,
   "id": "96beea79",
   "metadata": {},
   "outputs": [
    {
     "name": "stderr",
     "output_type": "stream",
     "text": [
      "WARNING: FITSFixedWarning: RADECSYS= 'FK5 ' / Equatorial coordinate system \n",
      "the RADECSYS keyword is deprecated, use RADESYSa. [astropy.wcs.wcs]\n",
      "WARNING: FITSFixedWarning: 'datfix' made the change 'Set MJD-OBS to 60388.214809 from DATE-OBS'. [astropy.wcs.wcs]\n",
      "WARNING: FITSFixedWarning: RADECSYS= 'FK5 ' / Equatorial coordinate system \n",
      "the RADECSYS keyword is deprecated, use RADESYSa. [astropy.wcs.wcs]\n",
      "WARNING: FITSFixedWarning: 'datfix' made the change 'Set MJD-OBS to 60388.180239 from DATE-OBS'. [astropy.wcs.wcs]\n"
     ]
    },
    {
     "name": "stdout",
     "output_type": "stream",
     "text": [
      "Results saved to /Users/jonathan.a.chavez9/Desktop/greatBasinFilterCalibration/GD 421/calibrated_r/RResult_2.13867993725.csv\n",
      "Results saved to /Users/jonathan.a.chavez9/Desktop/greatBasinFilterCalibration/GD 421/calibrated_r/RResult_1.89315380946.csv\n"
     ]
    },
    {
     "name": "stderr",
     "output_type": "stream",
     "text": [
      "WARNING: FITSFixedWarning: RADECSYS= 'FK5 ' / Equatorial coordinate system \n",
      "the RADECSYS keyword is deprecated, use RADESYSa. [astropy.wcs.wcs]\n",
      "WARNING: FITSFixedWarning: 'datfix' made the change 'Set MJD-OBS to 60387.139247 from DATE-OBS'. [astropy.wcs.wcs]\n",
      "WARNING: FITSFixedWarning: RADECSYS= 'FK5 ' / Equatorial coordinate system \n",
      "the RADECSYS keyword is deprecated, use RADESYSa. [astropy.wcs.wcs]\n",
      "WARNING: FITSFixedWarning: 'datfix' made the change 'Set MJD-OBS to 60388.249309 from DATE-OBS'. [astropy.wcs.wcs]\n"
     ]
    },
    {
     "name": "stdout",
     "output_type": "stream",
     "text": [
      "Results saved to /Users/jonathan.a.chavez9/Desktop/greatBasinFilterCalibration/GD 421/calibrated_r/RResult_1.6436992097.csv\n",
      "Results saved to /Users/jonathan.a.chavez9/Desktop/greatBasinFilterCalibration/GD 421/calibrated_r/RResult_2.4236963029.csv\n"
     ]
    },
    {
     "name": "stderr",
     "output_type": "stream",
     "text": [
      "WARNING: FITSFixedWarning: RADECSYS= 'FK5 ' / Equatorial coordinate system \n",
      "the RADECSYS keyword is deprecated, use RADESYSa. [astropy.wcs.wcs]\n",
      "WARNING: FITSFixedWarning: 'datfix' made the change 'Set MJD-OBS to 60387.178109 from DATE-OBS'. [astropy.wcs.wcs]\n",
      "WARNING: FITSFixedWarning: RADECSYS= 'FK5 ' / Equatorial coordinate system \n",
      "the RADECSYS keyword is deprecated, use RADESYSa. [astropy.wcs.wcs]\n",
      "WARNING: FITSFixedWarning: 'datfix' made the change 'Set MJD-OBS to 60387.215389 from DATE-OBS'. [astropy.wcs.wcs]\n"
     ]
    },
    {
     "name": "stdout",
     "output_type": "stream",
     "text": [
      "Results saved to /Users/jonathan.a.chavez9/Desktop/greatBasinFilterCalibration/GD 421/calibrated_r/RResult_1.86208945872.csv\n",
      "Results saved to /Users/jonathan.a.chavez9/Desktop/greatBasinFilterCalibration/GD 421/calibrated_r/RResult_2.12207091126.csv\n",
      "Results saved to /Users/jonathan.a.chavez9/Desktop/greatBasinFilterCalibration/GD 421/calibrated_r/RResult_1.6715689965.csv\n",
      "Results saved to /Users/jonathan.a.chavez9/Desktop/greatBasinFilterCalibration/GD 421/calibrated_r/RResult_1.69066079001.csv\n"
     ]
    },
    {
     "name": "stderr",
     "output_type": "stream",
     "text": [
      "WARNING: FITSFixedWarning: RADECSYS= 'FK5 ' / Equatorial coordinate system \n",
      "the RADECSYS keyword is deprecated, use RADESYSa. [astropy.wcs.wcs]\n",
      "WARNING: FITSFixedWarning: 'datfix' made the change 'Set MJD-OBS to 60388.142030 from DATE-OBS'. [astropy.wcs.wcs]\n",
      "WARNING: FITSFixedWarning: RADECSYS= 'FK5 ' / Equatorial coordinate system \n",
      "the RADECSYS keyword is deprecated, use RADESYSa. [astropy.wcs.wcs]\n",
      "WARNING: FITSFixedWarning: 'datfix' made the change 'Set MJD-OBS to 60388.145703 from DATE-OBS'. [astropy.wcs.wcs]\n"
     ]
    }
   ],
   "source": [
    "import os\n",
    "import numpy as np\n",
    "import pandas as pd\n",
    "from astropy.io import fits\n",
    "from astropy.wcs import WCS\n",
    "from astropy.coordinates import SkyCoord\n",
    "import astropy.units as u\n",
    "from photutils.aperture import SkyCircularAperture, CircularAperture, SkyCircularAnnulus, aperture_photometry\n",
    "from astropy.stats import sigma_clipped_stats\n",
    "\n",
    "# Load APASS catalog CSV file\n",
    "apass_data = pd.read_csv(\"/Users/jonathan.a.chavez9/Desktop/greatBasinFilterCalibration/GD 421/apassGD421.csv\")\n",
    "\n",
    "# Define your base path for FITS files\n",
    "base_path = \"/Users/jonathan.a.chavez9/Desktop/greatBasinFilterCalibration/GD 421/calibrated_r\"\n",
    "\n",
    "# Iterate over each file in the directory\n",
    "for filename in os.listdir(base_path):\n",
    "    if filename.endswith('.fts'):\n",
    "        file_path = os.path.join(base_path, filename)\n",
    "        results = []  # Initialize the results list inside the loop for separate CSV for each file\n",
    "        try:\n",
    "            hdulist = fits.open(file_path)\n",
    "            data = hdulist[0].data\n",
    "            wcs = WCS(hdulist[0].header)\n",
    "            star_positions = SkyCoord(ra=apass_data['RA_degrees']*u.deg, dec=apass_data['Dec_degrees']*u.deg)\n",
    "\n",
    "            # Retrieve airmass from the FITS header\n",
    "            airmass = hdulist[0].header.get('AIRMASS', 'unknown')\n",
    "\n",
    "            # Define apertures and convert to pixel coordinates\n",
    "            apertures = SkyCircularAperture(star_positions, r=0.004 * u.deg)\n",
    "            pixel_apertures = apertures.to_pixel(wcs)\n",
    "\n",
    "            # Define annuli and convert to pixel coordinates for background estimation\n",
    "            annuli = SkyCircularAnnulus(star_positions, r_in=0.005 * u.deg, r_out=0.006 * u.deg)\n",
    "            pixel_annuli = annuli.to_pixel(wcs)\n",
    "\n",
    "            # Perform background subtraction using sigma clipping\n",
    "            bkg_median = []\n",
    "            for annulus in pixel_annuli:\n",
    "                mask = annulus.to_mask(method='center')\n",
    "                annulus_data = mask.multiply(data)\n",
    "                if np.any(mask.data > 0):  # Ensure data within mask\n",
    "                    annulus_data_1d = annulus_data[mask.data > 0]\n",
    "                    _, median_sigclip, _ = sigma_clipped_stats(annulus_data_1d)\n",
    "                    bkg_median.append(median_sigclip)\n",
    "                else:\n",
    "                    bkg_median.append(0)  # No data to process\n",
    "\n",
    "            bkg_median = np.array(bkg_median)\n",
    "            phot_table = aperture_photometry(data, pixel_apertures, error=np.sqrt(data), wcs=wcs)\n",
    "            phot_table['bkg_median'] = bkg_median\n",
    "            phot_table['aperture_sum_bkg_sub'] = phot_table['aperture_sum'] - bkg_median * np.array([ap.area for ap in pixel_apertures])\n",
    "\n",
    "            # Adding celestial coordinates\n",
    "            phot_table['ra_icrs'] = star_positions.ra.degree\n",
    "            phot_table['dec_icrs'] = star_positions.dec.degree\n",
    "\n",
    "            # Match photometry results with catalog data\n",
    "            for i, row in enumerate(phot_table):\n",
    "                catalog_match = apass_data.iloc[np.argmin(star_positions.separation(star_positions[i]).degree)]\n",
    "                results.append({\n",
    "                    'RA': row['ra_icrs'],\n",
    "                    'DEC': row['dec_icrs'],\n",
    "                    'Instrumental_R': -2.5 * np.log10(row['aperture_sum_bkg_sub']),\n",
    "                    'InstrumentalR_err': 1.0857 * row['aperture_sum_err'] / row['aperture_sum'],\n",
    "                    'Known_R': catalog_match['Rc'],\n",
    "                    'KnownR_err': catalog_match['Rc_err']\n",
    "                })\n",
    "\n",
    "            results_df = pd.DataFrame(results)\n",
    "            csv_filename = f\"RResult_{airmass}.csv\"\n",
    "            csv_file_path = os.path.join(base_path, csv_filename)\n",
    "            results_df.to_csv(csv_file_path, index=False)\n",
    "            print(f\"Results saved to {csv_file_path}\")\n",
    "\n",
    "        except Exception as e:\n",
    "            print(f\"Failed to process {filename}: {e}\")\n"
   ]
  },
  {
   "cell_type": "markdown",
   "id": "96222e19",
   "metadata": {},
   "source": [
    "## B Filter"
   ]
  },
  {
   "cell_type": "code",
   "execution_count": 3,
   "id": "a6930f0e",
   "metadata": {
    "scrolled": true
   },
   "outputs": [
    {
     "name": "stderr",
     "output_type": "stream",
     "text": [
      "WARNING: FITSFixedWarning: RADECSYS= 'FK5 ' / Equatorial coordinate system \n",
      "the RADECSYS keyword is deprecated, use RADESYSa. [astropy.wcs.wcs]\n",
      "WARNING: FITSFixedWarning: 'datfix' made the change 'Set MJD-OBS to 60387.131728 from DATE-OBS'. [astropy.wcs.wcs]\n",
      "WARNING: FITSFixedWarning: RADECSYS= 'FK5 ' / Equatorial coordinate system \n",
      "the RADECSYS keyword is deprecated, use RADESYSa. [astropy.wcs.wcs]\n",
      "WARNING: FITSFixedWarning: 'datfix' made the change 'Set MJD-OBS to 60388.211151 from DATE-OBS'. [astropy.wcs.wcs]\n",
      "WARNING: FITSFixedWarning: RADECSYS= 'FK5 ' / Equatorial coordinate system \n",
      "the RADECSYS keyword is deprecated, use RADESYSa. [astropy.wcs.wcs]\n",
      "WARNING: FITSFixedWarning: 'datfix' made the change 'Set MJD-OBS to 60387.170673 from DATE-OBS'. [astropy.wcs.wcs]\n",
      "WARNING: FITSFixedWarning: 'datfix' made the change 'Set MJD-OBS to 60387.207941 from DATE-OBS'. [astropy.wcs.wcs]\n"
     ]
    },
    {
     "name": "stdout",
     "output_type": "stream",
     "text": [
      "Results saved to /Users/jonathan.a.chavez9/Desktop/greatBasinFilterCalibration/GD 421/calibrated_b/BResult_1.60729773827.csv\n",
      "Results saved to /Users/jonathan.a.chavez9/Desktop/greatBasinFilterCalibration/GD 421/calibrated_b/BResult_2.11052755732.csv\n",
      "Failed to process calibrated_GD 421-20240318at040540_-20-3-300-B.fts: Number of world inputs (1) does not match expected (2)\n",
      "Results saved to /Users/jonathan.a.chavez9/Desktop/greatBasinFilterCalibration/GD 421/calibrated_b/BResult_2.06610890535.csv\n",
      "Results saved to /Users/jonathan.a.chavez9/Desktop/greatBasinFilterCalibration/GD 421/calibrated_b/BResult_1.86957829916.csv\n",
      "Results saved to /Users/jonathan.a.chavez9/Desktop/greatBasinFilterCalibration/GD 421/calibrated_b/BResult_2.391752113.csv\n"
     ]
    },
    {
     "name": "stderr",
     "output_type": "stream",
     "text": [
      "WARNING: FITSFixedWarning: RADECSYS= 'FK5 ' / Equatorial coordinate system \n",
      "the RADECSYS keyword is deprecated, use RADESYSa. [astropy.wcs.wcs]\n",
      "WARNING: FITSFixedWarning: 'datfix' made the change 'Set MJD-OBS to 60388.176561 from DATE-OBS'. [astropy.wcs.wcs]\n",
      "WARNING: FITSFixedWarning: RADECSYS= 'FK5 ' / Equatorial coordinate system \n",
      "the RADECSYS keyword is deprecated, use RADESYSa. [astropy.wcs.wcs]\n",
      "WARNING: FITSFixedWarning: 'datfix' made the change 'Set MJD-OBS to 60388.245648 from DATE-OBS'. [astropy.wcs.wcs]\n"
     ]
    }
   ],
   "source": [
    "import os\n",
    "import numpy as np\n",
    "import pandas as pd\n",
    "from astropy.io import fits\n",
    "from astropy.wcs import WCS\n",
    "from astropy.coordinates import SkyCoord\n",
    "import astropy.units as u\n",
    "from photutils.aperture import SkyCircularAperture, CircularAperture, SkyCircularAnnulus, aperture_photometry\n",
    "from astropy.stats import sigma_clipped_stats\n",
    "\n",
    "# Load APASS catalog CSV file\n",
    "apass_data = pd.read_csv(\"/Users/jonathan.a.chavez9/Desktop/greatBasinFilterCalibration/GD 421/apassGD421.csv\")\n",
    "\n",
    "# Define your base path for FITS files\n",
    "base_path = \"/Users/jonathan.a.chavez9/Desktop/greatBasinFilterCalibration/GD 421/calibrated_b\"\n",
    "\n",
    "# Iterate over each file in the directory\n",
    "for filename in os.listdir(base_path):\n",
    "    if filename.endswith('.fts'):\n",
    "        file_path = os.path.join(base_path, filename)\n",
    "        results = []  # Initialize the results list inside the loop for separate CSV for each file\n",
    "        try:\n",
    "            hdulist = fits.open(file_path)\n",
    "            data = hdulist[0].data\n",
    "            wcs = WCS(hdulist[0].header)\n",
    "            star_positions = SkyCoord(ra=apass_data['RA_degrees']*u.deg, dec=apass_data['Dec_degrees']*u.deg)\n",
    "\n",
    "            # Retrieve airmass from the FITS header\n",
    "            airmass = hdulist[0].header.get('AIRMASS', 'unknown')\n",
    "\n",
    "            # Define apertures and convert to pixel coordinates\n",
    "            apertures = SkyCircularAperture(star_positions, r=0.004 * u.deg)\n",
    "            pixel_apertures = apertures.to_pixel(wcs)\n",
    "\n",
    "            # Define annuli and convert to pixel coordinates for background estimation\n",
    "            annuli = SkyCircularAnnulus(star_positions, r_in=0.005 * u.deg, r_out=0.006 * u.deg)\n",
    "            pixel_annuli = annuli.to_pixel(wcs)\n",
    "\n",
    "            # Perform background subtraction using sigma clipping\n",
    "            bkg_median = []\n",
    "            for annulus in pixel_annuli:\n",
    "                mask = annulus.to_mask(method='center')\n",
    "                annulus_data = mask.multiply(data)\n",
    "                if np.any(mask.data > 0):  # Ensure data within mask\n",
    "                    annulus_data_1d = annulus_data[mask.data > 0]\n",
    "                    _, median_sigclip, _ = sigma_clipped_stats(annulus_data_1d)\n",
    "                    bkg_median.append(median_sigclip)\n",
    "                else:\n",
    "                    bkg_median.append(0)  # No data to process\n",
    "\n",
    "            bkg_median = np.array(bkg_median)\n",
    "            phot_table = aperture_photometry(data, pixel_apertures, error=np.sqrt(data), wcs=wcs)\n",
    "            phot_table['bkg_median'] = bkg_median\n",
    "            phot_table['aperture_sum_bkg_sub'] = phot_table['aperture_sum'] - bkg_median * np.array([ap.area for ap in pixel_apertures])\n",
    "\n",
    "            # Adding celestial coordinates\n",
    "            phot_table['ra_icrs'] = star_positions.ra.degree\n",
    "            phot_table['dec_icrs'] = star_positions.dec.degree\n",
    "\n",
    "            # Match photometry results with catalog data\n",
    "            for i, row in enumerate(phot_table):\n",
    "                catalog_match = apass_data.iloc[np.argmin(star_positions.separation(star_positions[i]).degree)]\n",
    "                results.append({\n",
    "                    'RA': row['ra_icrs'],\n",
    "                    'DEC': row['dec_icrs'],\n",
    "                    'Instrumental_B': -2.5 * np.log10(row['aperture_sum_bkg_sub']),\n",
    "                    'InstrumentalB_err': 1.0857 * row['aperture_sum_err'] / row['aperture_sum'],\n",
    "                    'Known_B': catalog_match['B'],\n",
    "                    'KnownB_err': catalog_match['B_err']\n",
    "                })\n",
    "\n",
    "            results_df = pd.DataFrame(results)\n",
    "            csv_filename = f\"BResult_{airmass}.csv\"\n",
    "            csv_file_path = os.path.join(base_path, csv_filename)\n",
    "            results_df.to_csv(csv_file_path, index=False)\n",
    "            print(f\"Results saved to {csv_file_path}\")\n",
    "\n",
    "        except Exception as e:\n",
    "            print(f\"Failed to process {filename}: {e}\")\n"
   ]
  },
  {
   "cell_type": "markdown",
   "id": "62e96cf7",
   "metadata": {},
   "source": [
    "## V Filter"
   ]
  },
  {
   "cell_type": "code",
   "execution_count": 4,
   "id": "2d354197",
   "metadata": {},
   "outputs": [
    {
     "name": "stderr",
     "output_type": "stream",
     "text": [
      "WARNING: FITSFixedWarning: RADECSYS= 'FK5 ' / Equatorial coordinate system \n",
      "the RADECSYS keyword is deprecated, use RADESYSa. [astropy.wcs.wcs]\n",
      "WARNING: FITSFixedWarning: 'datfix' made the change 'Set MJD-OBS to 60387.135484 from DATE-OBS'. [astropy.wcs.wcs]\n",
      "WARNING: FITSFixedWarning: RADECSYS= 'FK5 ' / Equatorial coordinate system \n",
      "the RADECSYS keyword is deprecated, use RADESYSa. [astropy.wcs.wcs]\n",
      "WARNING: FITSFixedWarning: 'datfix' made the change 'Set MJD-OBS to 60388.207400 from DATE-OBS'. [astropy.wcs.wcs]\n"
     ]
    },
    {
     "name": "stdout",
     "output_type": "stream",
     "text": [
      "Results saved to /Users/jonathan.a.chavez9/Desktop/greatBasinFilterCalibration/GD 421/calibrated_v/VResult_1.62527902818.csv\n",
      "Results saved to /Users/jonathan.a.chavez9/Desktop/greatBasinFilterCalibration/GD 421/calibrated_v/VResult_2.08229358105.csv\n"
     ]
    },
    {
     "name": "stderr",
     "output_type": "stream",
     "text": [
      "WARNING: FITSFixedWarning: RADECSYS= 'FK5 ' / Equatorial coordinate system \n",
      "the RADECSYS keyword is deprecated, use RADESYSa. [astropy.wcs.wcs]\n",
      "WARNING: FITSFixedWarning: 'datfix' made the change 'Set MJD-OBS to 60388.241888 from DATE-OBS'. [astropy.wcs.wcs]\n",
      "WARNING: FITSFixedWarning: RADECSYS= 'FK5 ' / Equatorial coordinate system \n",
      "the RADECSYS keyword is deprecated, use RADESYSa. [astropy.wcs.wcs]\n",
      "WARNING: FITSFixedWarning: 'datfix' made the change 'Set MJD-OBS to 60387.211662 from DATE-OBS'. [astropy.wcs.wcs]\n"
     ]
    },
    {
     "name": "stdout",
     "output_type": "stream",
     "text": [
      "Results saved to /Users/jonathan.a.chavez9/Desktop/greatBasinFilterCalibration/GD 421/calibrated_v/VResult_2.35944558709.csv\n",
      "Results saved to /Users/jonathan.a.chavez9/Desktop/greatBasinFilterCalibration/GD 421/calibrated_v/VResult_2.09389071635.csv\n"
     ]
    },
    {
     "name": "stderr",
     "output_type": "stream",
     "text": [
      "WARNING: FITSFixedWarning: RADECSYS= 'FK5 ' / Equatorial coordinate system \n",
      "the RADECSYS keyword is deprecated, use RADESYSa. [astropy.wcs.wcs]\n",
      "WARNING: FITSFixedWarning: 'datfix' made the change 'Set MJD-OBS to 60388.172792 from DATE-OBS'. [astropy.wcs.wcs]\n",
      "WARNING: FITSFixedWarning: RADECSYS= 'FK5 ' / Equatorial coordinate system \n",
      "the RADECSYS keyword is deprecated, use RADESYSa. [astropy.wcs.wcs]\n",
      "WARNING: FITSFixedWarning: 'datfix' made the change 'Set MJD-OBS to 60387.174379 from DATE-OBS'. [astropy.wcs.wcs]\n"
     ]
    },
    {
     "name": "stdout",
     "output_type": "stream",
     "text": [
      "Results saved to /Users/jonathan.a.chavez9/Desktop/greatBasinFilterCalibration/GD 421/calibrated_v/VResult_1.84592332402.csv\n",
      "Results saved to /Users/jonathan.a.chavez9/Desktop/greatBasinFilterCalibration/GD 421/calibrated_v/VResult_1.8388588425.csv\n",
      "Results saved to /Users/jonathan.a.chavez9/Desktop/greatBasinFilterCalibration/GD 421/calibrated_v/VResult_1.65244711489.csv\n"
     ]
    },
    {
     "name": "stderr",
     "output_type": "stream",
     "text": [
      "WARNING: FITSFixedWarning: RADECSYS= 'FK5 ' / Equatorial coordinate system \n",
      "the RADECSYS keyword is deprecated, use RADESYSa. [astropy.wcs.wcs]\n",
      "WARNING: FITSFixedWarning: 'datfix' made the change 'Set MJD-OBS to 60388.138266 from DATE-OBS'. [astropy.wcs.wcs]\n"
     ]
    }
   ],
   "source": [
    "import os\n",
    "import numpy as np\n",
    "import pandas as pd\n",
    "from astropy.io import fits\n",
    "from astropy.wcs import WCS\n",
    "from astropy.coordinates import SkyCoord\n",
    "import astropy.units as u\n",
    "from photutils.aperture import SkyCircularAperture, CircularAperture, SkyCircularAnnulus, aperture_photometry\n",
    "from astropy.stats import sigma_clipped_stats\n",
    "\n",
    "# Load APASS catalog CSV file\n",
    "apass_data = pd.read_csv(\"/Users/jonathan.a.chavez9/Desktop/greatBasinFilterCalibration/GD 421/apassGD421.csv\")\n",
    "\n",
    "# Define your base path for FITS files\n",
    "base_path = \"/Users/jonathan.a.chavez9/Desktop/greatBasinFilterCalibration/GD 421/calibrated_v\"\n",
    "\n",
    "# Iterate over each file in the directory\n",
    "for filename in os.listdir(base_path):\n",
    "    if filename.endswith('.fts'):\n",
    "        file_path = os.path.join(base_path, filename)\n",
    "        results = []  # Initialize the results list inside the loop for separate CSV for each file\n",
    "        try:\n",
    "            hdulist = fits.open(file_path)\n",
    "            data = hdulist[0].data\n",
    "            wcs = WCS(hdulist[0].header)\n",
    "            star_positions = SkyCoord(ra=apass_data['RA_degrees']*u.deg, dec=apass_data['Dec_degrees']*u.deg)\n",
    "\n",
    "            # Retrieve airmass from the FITS header\n",
    "            airmass = hdulist[0].header.get('AIRMASS', 'unknown')\n",
    "\n",
    "            # Define apertures and convert to pixel coordinates\n",
    "            apertures = SkyCircularAperture(star_positions, r=0.004 * u.deg)\n",
    "            pixel_apertures = apertures.to_pixel(wcs)\n",
    "\n",
    "            # Define annuli and convert to pixel coordinates for background estimation\n",
    "            annuli = SkyCircularAnnulus(star_positions, r_in=0.005 * u.deg, r_out=0.006 * u.deg)\n",
    "            pixel_annuli = annuli.to_pixel(wcs)\n",
    "\n",
    "            # Perform background subtraction using sigma clipping\n",
    "            bkg_median = []\n",
    "            for annulus in pixel_annuli:\n",
    "                mask = annulus.to_mask(method='center')\n",
    "                annulus_data = mask.multiply(data)\n",
    "                if np.any(mask.data > 0):  # Ensure data within mask\n",
    "                    annulus_data_1d = annulus_data[mask.data > 0]\n",
    "                    _, median_sigclip, _ = sigma_clipped_stats(annulus_data_1d)\n",
    "                    bkg_median.append(median_sigclip)\n",
    "                else:\n",
    "                    bkg_median.append(0)  # No data to process\n",
    "\n",
    "            bkg_median = np.array(bkg_median)\n",
    "            phot_table = aperture_photometry(data, pixel_apertures, error=np.sqrt(data), wcs=wcs)\n",
    "            phot_table['bkg_median'] = bkg_median\n",
    "            phot_table['aperture_sum_bkg_sub'] = phot_table['aperture_sum'] - bkg_median * np.array([ap.area for ap in pixel_apertures])\n",
    "\n",
    "            # Adding celestial coordinates\n",
    "            phot_table['ra_icrs'] = star_positions.ra.degree\n",
    "            phot_table['dec_icrs'] = star_positions.dec.degree\n",
    "\n",
    "            # Match photometry results with catalog data\n",
    "            for i, row in enumerate(phot_table):\n",
    "                catalog_match = apass_data.iloc[np.argmin(star_positions.separation(star_positions[i]).degree)]\n",
    "                results.append({\n",
    "                    'RA': row['ra_icrs'],\n",
    "                    'DEC': row['dec_icrs'],\n",
    "                    'Instrumental_V': -2.5 * np.log10(row['aperture_sum_bkg_sub']),\n",
    "                    'InstrumentalV_err': 1.0857 * row['aperture_sum_err'] / row['aperture_sum'],\n",
    "                    'Known_V': catalog_match['V'],\n",
    "                    'KnownV_err': catalog_match['V_err']\n",
    "                })\n",
    "\n",
    "            results_df = pd.DataFrame(results)\n",
    "            csv_filename = f\"VResult_{airmass}.csv\"\n",
    "            csv_file_path = os.path.join(base_path, csv_filename)\n",
    "            results_df.to_csv(csv_file_path, index=False)\n",
    "            print(f\"Results saved to {csv_file_path}\")\n",
    "\n",
    "        except Exception as e:\n",
    "            print(f\"Failed to process {filename}: {e}\")\n"
   ]
  },
  {
   "cell_type": "code",
   "execution_count": null,
   "id": "57497db1",
   "metadata": {},
   "outputs": [],
   "source": []
  }
 ],
 "metadata": {
  "kernelspec": {
   "display_name": "Python 3 (ipykernel)",
   "language": "python",
   "name": "python3"
  },
  "language_info": {
   "codemirror_mode": {
    "name": "ipython",
    "version": 3
   },
   "file_extension": ".py",
   "mimetype": "text/x-python",
   "name": "python",
   "nbconvert_exporter": "python",
   "pygments_lexer": "ipython3",
   "version": "3.11.4"
  }
 },
 "nbformat": 4,
 "nbformat_minor": 5
}
