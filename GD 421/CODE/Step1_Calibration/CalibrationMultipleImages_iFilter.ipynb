{
 "cells": [
  {
   "cell_type": "code",
   "execution_count": 1,
   "id": "b94c23eb",
   "metadata": {
    "scrolled": true
   },
   "outputs": [
    {
     "name": "stdout",
     "output_type": "stream",
     "text": [
      "Calibrated Image Saved to: /Users/jonathan.a.chavez9/Desktop/greatBasinFilterCalibration/GD 421/calibrated_i/calibrated_GD 421-20240318at032545_-20-3-300-I.fts\n",
      "Calibrated Image Saved to: /Users/jonathan.a.chavez9/Desktop/greatBasinFilterCalibration/GD 421/calibrated_i/calibrated_GD 421-20240319at051434_-20-3-300-I.fts\n",
      "Calibrated Image Saved to: /Users/jonathan.a.chavez9/Desktop/greatBasinFilterCalibration/GD 421/calibrated_i/calibrated_GD 421-20240319at033503_-20-3-300-I.fts\n",
      "Calibrated Image Saved to: /Users/jonathan.a.chavez9/Desktop/greatBasinFilterCalibration/GD 421/calibrated_i/calibrated_GD 421-20240318at042143_-20-3-300-I.fts\n",
      "Calibrated Image Saved to: /Users/jonathan.a.chavez9/Desktop/greatBasinFilterCalibration/GD 421/calibrated_i/calibrated_GD 421-20240319at060414_-20-3-300-I.fts\n",
      "Calibrated Image Saved to: /Users/jonathan.a.chavez9/Desktop/greatBasinFilterCalibration/GD 421/calibrated_i/calibrated_GD 421-20240319at042448_-20-3-300-I.fts\n",
      "Calibrated Image Saved to: /Users/jonathan.a.chavez9/Desktop/greatBasinFilterCalibration/GD 421/calibrated_i/calibrated_GD 421-20240318at051524_-20-3-300-I.fts\n"
     ]
    }
   ],
   "source": [
    "from astropy.io import fits\n",
    "import numpy as np\n",
    "import matplotlib.pyplot as plt\n",
    "from matplotlib.colors import LogNorm\n",
    "import glob\n",
    "import os\n",
    "\n",
    "# Directory Paths\n",
    "rawScienceDir = \"/Users/jonathan.a.chavez9/Desktop/greatBasinFilterCalibration/GD 421/iFilter\"\n",
    "flatFieldDir = \"/Users/jonathan.a.chavez9/Desktop/greatBasinFilterCalibration/March19BVRICalibs\"\n",
    "darkFrameDir = \"/Users/jonathan.a.chavez9/Desktop/greatBasinFilterCalibration/March19BVRICalibs\"\n",
    "calibratedImageDir = \"/Users/jonathan.a.chavez9/Desktop/greatBasinFilterCalibration/GD 421/calibrated_i\"\n",
    "\n",
    "# Specify the FITS filenames\n",
    "flatFieldFile = \"Flat-20240320at014215_PA000-I-3.fts\"  # Update this to your flat field FITS file name\n",
    "darkFrameFile = \"Dark-20240320at021030_-25-3X3-300.fts\"  # Update this to your dark frame FITS file name\n",
    "\n",
    "# Loading the Flat Field Image\n",
    "flatFieldPath = os.path.join(flatFieldDir, flatFieldFile)\n",
    "flatData = fits.getdata(flatFieldPath)\n",
    "\n",
    "# Loading the Dark Frame Image\n",
    "darkFramePath = os.path.join(darkFrameDir, darkFrameFile)\n",
    "darkData = fits.getdata(darkFramePath)\n",
    "\n",
    "# Normalizing the Flat Field\n",
    "normalizedFlat = flatData / np.median(flatData)\n",
    "\n",
    "# Looping Through all Science Images\n",
    "for scienceFile in glob.glob(os.path.join(rawScienceDir, \"*.fts\")):\n",
    "    HDU = fits.open(scienceFile)\n",
    "    rawData = HDU[0].data\n",
    "    \n",
    "    # Calibrating the Science Image\n",
    "    calibratedData = (rawData - darkData) / normalizedFlat\n",
    "    HDU[0].data = calibratedData\n",
    "    \n",
    "    # Constructing the Calibrated File Path\n",
    "    original_filename = os.path.basename(scienceFile)\n",
    "    new_filename = \"calibrated_\" + original_filename\n",
    "    calibratedFile = os.path.join(calibratedImageDir, new_filename)\n",
    "    \n",
    "    # Saving to a New FITS file\n",
    "    HDU.writeto(calibratedFile, overwrite=True)\n",
    "    print(f\"Calibrated Image Saved to: {calibratedFile}\")\n",
    "    HDU.close()\n"
   ]
  },
  {
   "cell_type": "code",
   "execution_count": null,
   "id": "4f36ea4f",
   "metadata": {},
   "outputs": [],
   "source": []
  }
 ],
 "metadata": {
  "kernelspec": {
   "display_name": "Python 3 (ipykernel)",
   "language": "python",
   "name": "python3"
  },
  "language_info": {
   "codemirror_mode": {
    "name": "ipython",
    "version": 3
   },
   "file_extension": ".py",
   "mimetype": "text/x-python",
   "name": "python",
   "nbconvert_exporter": "python",
   "pygments_lexer": "ipython3",
   "version": "3.11.4"
  }
 },
 "nbformat": 4,
 "nbformat_minor": 5
}
