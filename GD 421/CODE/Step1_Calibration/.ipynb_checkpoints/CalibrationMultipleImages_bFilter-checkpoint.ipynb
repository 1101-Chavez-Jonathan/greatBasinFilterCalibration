{
 "cells": [
  {
   "cell_type": "code",
   "execution_count": null,
   "id": "b94c23eb",
   "metadata": {},
   "outputs": [],
   "source": [
    "from astropy.io import fits\n",
    "import numpy as np\n",
    "import matplotlib.pyplot as plt\n",
    "from matplotlib.colors import LogNorm\n",
    "import glob\n",
    "import os #Added for os.path.join\n",
    "\n",
    "#Directory Paths\n",
    "rawScienceDir = \"Input Raw Science Directory Here\"\n",
    "flatFieldDir = \"Input Flat Field Directory Here\" # This is done in order to assign directories to the fields\n",
    "darkFrameDir = \"Input Dark Frame Directory Here\" # This is done in order to assign directories to the frames\n",
    "calibratedImageDir = \"Input Where you Want the Images to Post to\"\n",
    "\n",
    "#Loading the Flat Field Image\n",
    "flatField = os.path.join(flatFieldDir, \"Input Flat Field File Path Here\")\n",
    "flatData = fits.getdata(flatField)\n",
    "\n",
    "#Loading the Dark Frame Image\n",
    "darkFrame = os.path.join(darkFrameDir, \"Input Dark Frame File Path Here\")\n",
    "darkData = fits.getdata(darkFrame)\n",
    "\n",
    "#Normalizing the Flat Field\n",
    "normalizedFlat = flatData / np.median(flatData)\n",
    "\n",
    "#Looping Through all Science Images\n",
    "for scienceFile in glob.glob(os.path.join(rawScienceDir, \"*.fts\")):\n",
    "    ##rawData = fits.getdata(scienceFile)\n",
    "    HDU = fits.open(scienceFile)\n",
    "    rawData = HDU[0].data\n",
    "    \n",
    "    #Calibrating the Science Image\n",
    "    calibratedData = (rawData - darkData) / normalizedFlat\n",
    "    HDU[0].data = calibratedData\n",
    "    \n",
    "    #Constructing the Calibrated File Path\n",
    "    calibratedFile = os.path.join(calibratedImageDir, scienceFile.split('/')[-1].replace(\"raw\", \"calibrated\"))\n",
    "    \n",
    "    #Saving to a New FITS file\n",
    "    HDU.writeto(calibratedFile, overwrite=True)\n",
    "    print(f\"Calibrated Image Saved to: {calibratedFile}\")\n",
    "    \n",
    "\n",
    "#KEY CHANGES MADE TO CODE:\n",
    "# DIRECTORIES FOR IMAGES: Directory paths are now defind for raw, flat and dark frames as well as where to save the images\n",
    "# GLOB FOR FILE LOOPING: Use glob.glob(...) to loop through every .fts file in raw science directory\n",
    "# CALIBRATED FILE NAMING: By using .replace(\"raw\", calibrated\"), we are able to change a non calibrated image name to a calibrated one\n",
    "# IMPORTED OS: https://docs.python.org/3/library/os.path.html discusses reasoning.\n",
    "\n",
    "        ## However, this is essentially, from my understanding, to allow for cross compatability between software\n",
    "        ## Website reasoning: the `os.path.join()` method is used to concatenate path components, effectively constructing valid paths. \n",
    "        ##It ensures cross-platform compatibility by properly joining the components: https://www.geeksforgeeks.org/python-os-path-join-method/"
   ]
  }
 ],
 "metadata": {
  "kernelspec": {
   "display_name": "Python 3 (ipykernel)",
   "language": "python",
   "name": "python3"
  },
  "language_info": {
   "codemirror_mode": {
    "name": "ipython",
    "version": 3
   },
   "file_extension": ".py",
   "mimetype": "text/x-python",
   "name": "python",
   "nbconvert_exporter": "python",
   "pygments_lexer": "ipython3",
   "version": "3.11.4"
  }
 },
 "nbformat": 4,
 "nbformat_minor": 5
}
